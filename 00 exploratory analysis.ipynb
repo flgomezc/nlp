{
 "cells": [
  {
   "cell_type": "code",
   "execution_count": 1,
   "metadata": {},
   "outputs": [],
   "source": [
    "import numpy as np\n",
    "import matplotlib.pyplot as plt\n",
    "import pandas as pd\n",
    "import json\n",
    "\n",
    "import re\n",
    "import string\n",
    "import urllib.request\n",
    "from nltk.corpus import stopwords\n",
    "from bs4 import BeautifulSoup"
   ]
  },
  {
   "cell_type": "code",
   "execution_count": 2,
   "metadata": {},
   "outputs": [],
   "source": [
    "pd.set_option('max_colwidth',80)"
   ]
  },
  {
   "cell_type": "code",
   "execution_count": 3,
   "metadata": {},
   "outputs": [],
   "source": [
    "nrows = 4700"
   ]
  },
  {
   "cell_type": "code",
   "execution_count": 4,
   "metadata": {},
   "outputs": [],
   "source": [
    "def load_tmdb_movies(path, nrows):\n",
    "    df = pd.read_csv(path, nrows=nrows)\n",
    "    df['release_date'] = pd.to_datetime(df['release_date']).apply(lambda x: x.date())\n",
    "    json_columns = ['genres', 'keywords', 'production_countries', 'production_companies', 'spoken_languages']\n",
    "    for column in json_columns:\n",
    "        df[column] = df[column].apply(json.loads)\n",
    "    return df\n",
    "\n",
    "def load_tmdb_credits(path, nrows):\n",
    "    df = pd.read_csv(path, nrows=nrows)\n",
    "    json_columns = ['cast', 'crew']\n",
    "    for column in json_columns:\n",
    "        df[column] = df[column].apply(json.loads)\n",
    "    return df\n"
   ]
  },
  {
   "cell_type": "code",
   "execution_count": 5,
   "metadata": {},
   "outputs": [],
   "source": [
    "df_movies = load_tmdb_movies(\"./tmdb-movie-metadata/tmdb_5000_movies.csv\", nrows)"
   ]
  },
  {
   "cell_type": "code",
   "execution_count": 6,
   "metadata": {},
   "outputs": [],
   "source": [
    "df_credits = load_tmdb_credits(\"./tmdb-movie-metadata/tmdb_5000_credits.csv\", nrows)"
   ]
  },
  {
   "cell_type": "code",
   "execution_count": 7,
   "metadata": {},
   "outputs": [
    {
     "data": {
      "text/plain": [
       "array(['budget', 'genres', 'homepage', 'id', 'keywords',\n",
       "       'original_language', 'original_title', 'overview', 'popularity',\n",
       "       'production_companies', 'production_countries', 'release_date',\n",
       "       'revenue', 'runtime', 'spoken_languages', 'status', 'tagline',\n",
       "       'title', 'vote_average', 'vote_count'], dtype=object)"
      ]
     },
     "execution_count": 7,
     "metadata": {},
     "output_type": "execute_result"
    }
   ],
   "source": [
    "df_movies.columns.values"
   ]
  },
  {
   "cell_type": "code",
   "execution_count": 8,
   "metadata": {},
   "outputs": [
    {
     "data": {
      "text/plain": [
       "array(['movie_id', 'title', 'cast', 'crew'], dtype=object)"
      ]
     },
     "execution_count": 8,
     "metadata": {},
     "output_type": "execute_result"
    }
   ],
   "source": [
    "df_credits.columns.values"
   ]
  },
  {
   "cell_type": "code",
   "execution_count": 9,
   "metadata": {
    "scrolled": true
   },
   "outputs": [
    {
     "data": {
      "text/plain": [
       "[{'id': 1463, 'name': 'culture clash'},\n",
       " {'id': 2964, 'name': 'future'},\n",
       " {'id': 3386, 'name': 'space war'},\n",
       " {'id': 3388, 'name': 'space colony'},\n",
       " {'id': 3679, 'name': 'society'},\n",
       " {'id': 3801, 'name': 'space travel'},\n",
       " {'id': 9685, 'name': 'futuristic'},\n",
       " {'id': 9840, 'name': 'romance'},\n",
       " {'id': 9882, 'name': 'space'},\n",
       " {'id': 9951, 'name': 'alien'},\n",
       " {'id': 10148, 'name': 'tribe'},\n",
       " {'id': 10158, 'name': 'alien planet'},\n",
       " {'id': 10987, 'name': 'cgi'},\n",
       " {'id': 11399, 'name': 'marine'},\n",
       " {'id': 13065, 'name': 'soldier'},\n",
       " {'id': 14643, 'name': 'battle'},\n",
       " {'id': 14720, 'name': 'love affair'},\n",
       " {'id': 165431, 'name': 'anti war'},\n",
       " {'id': 193554, 'name': 'power relations'},\n",
       " {'id': 206690, 'name': 'mind and soul'},\n",
       " {'id': 209714, 'name': '3d'}]"
      ]
     },
     "execution_count": 9,
     "metadata": {},
     "output_type": "execute_result"
    }
   ],
   "source": [
    "df_movies.iloc[0].keywords"
   ]
  },
  {
   "cell_type": "code",
   "execution_count": 10,
   "metadata": {},
   "outputs": [
    {
     "data": {
      "text/plain": [
       "0       [{'id': 1463, 'name': 'culture clash'}, {'id': 2964, 'name': 'future'}, {'id...\n",
       "1       [{'id': 270, 'name': 'ocean'}, {'id': 726, 'name': 'drug abuse'}, {'id': 911...\n",
       "2       [{'id': 470, 'name': 'spy'}, {'id': 818, 'name': 'based on novel'}, {'id': 4...\n",
       "3       [{'id': 849, 'name': 'dc comics'}, {'id': 853, 'name': 'crime fighter'}, {'i...\n",
       "4       [{'id': 818, 'name': 'based on novel'}, {'id': 839, 'name': 'mars'}, {'id': ...\n",
       "                                             ...                                       \n",
       "4695    [{'id': 1155, 'name': 'brother sister relationship'}, {'id': 6069, 'name': '...\n",
       "4696    [{'id': 237, 'name': 'gay'}, {'id': 1025, 'name': 'great britain'}, {'id': 2...\n",
       "4697      [{'id': 10183, 'name': 'independent film'}, {'id': 10768, 'name': 'lesbian'}]\n",
       "4698                                         [{'id': 187056, 'name': 'woman director'}]\n",
       "4699                                                                                 []\n",
       "Name: keywords, Length: 4700, dtype: object"
      ]
     },
     "execution_count": 10,
     "metadata": {},
     "output_type": "execute_result"
    }
   ],
   "source": [
    "df_movies.keywords"
   ]
  },
  {
   "cell_type": "markdown",
   "metadata": {},
   "source": [
    "The keyords may conten inmportant information. E.g., \"sequel\" may be an interesting keyword. (Avengers, ToyStory)"
   ]
  },
  {
   "cell_type": "code",
   "execution_count": 11,
   "metadata": {},
   "outputs": [
    {
     "data": {
      "text/plain": [
       "0       [{'id': 28, 'name': 'Action'}, {'id': 12, 'name': 'Adventure'}, {'id': 14, '...\n",
       "1       [{'id': 12, 'name': 'Adventure'}, {'id': 14, 'name': 'Fantasy'}, {'id': 28, ...\n",
       "2       [{'id': 28, 'name': 'Action'}, {'id': 12, 'name': 'Adventure'}, {'id': 80, '...\n",
       "3       [{'id': 28, 'name': 'Action'}, {'id': 80, 'name': 'Crime'}, {'id': 18, 'name...\n",
       "4       [{'id': 28, 'name': 'Action'}, {'id': 12, 'name': 'Adventure'}, {'id': 878, ...\n",
       "                                             ...                                       \n",
       "4695    [{'id': 18, 'name': 'Drama'}, {'id': 35, 'name': 'Comedy'}, {'id': 10751, 'n...\n",
       "4696                    [{'id': 18, 'name': 'Drama'}, {'id': 10749, 'name': 'Romance'}]\n",
       "4697                   [{'id': 35, 'name': 'Comedy'}, {'id': 10749, 'name': 'Romance'}]\n",
       "4698                                                [{'id': 99, 'name': 'Documentary'}]\n",
       "4699                                                      [{'id': 18, 'name': 'Drama'}]\n",
       "Name: genres, Length: 4700, dtype: object"
      ]
     },
     "execution_count": 11,
     "metadata": {},
     "output_type": "execute_result"
    }
   ],
   "source": [
    "df_movies.genres"
   ]
  },
  {
   "cell_type": "code",
   "execution_count": 12,
   "metadata": {},
   "outputs": [
    {
     "data": {
      "text/plain": [
       "0       2009-12-10\n",
       "1       2007-05-19\n",
       "2       2015-10-26\n",
       "3       2012-07-16\n",
       "4       2012-03-07\n",
       "           ...    \n",
       "4695    1997-08-01\n",
       "4696    2011-09-22\n",
       "4697    1986-08-08\n",
       "4698    2014-03-10\n",
       "4699    2015-06-05\n",
       "Name: release_date, Length: 4700, dtype: object"
      ]
     },
     "execution_count": 12,
     "metadata": {},
     "output_type": "execute_result"
    }
   ],
   "source": [
    "df_movies.release_date"
   ]
  },
  {
   "cell_type": "markdown",
   "metadata": {},
   "source": [
    "The release date contains information about the season. Key moments: summer."
   ]
  },
  {
   "cell_type": "code",
   "execution_count": 13,
   "metadata": {
    "scrolled": true
   },
   "outputs": [
    {
     "data": {
      "text/plain": [
       "0       In the 22nd century, a paraplegic Marine is dispatched to the moon Pandora o...\n",
       "1       Captain Barbossa, long believed to be dead, has come back to life and is hea...\n",
       "2       A cryptic message from Bond’s past sends him on a trail to uncover a siniste...\n",
       "3       Following the death of District Attorney Harvey Dent, Batman assumes respons...\n",
       "4       John Carter is a war-weary, former military captain who's inexplicably trans...\n",
       "                                             ...                                       \n",
       "4695    Zohre's shoes are gone; her older brother Ali lost them. They are poor, ther...\n",
       "4696    After a drunken house party with his straight mates, Russell heads out to a ...\n",
       "4697    The story of Nola Darling's simultaneous sexual relationships with three dif...\n",
       "4698    Abbie came of age in honky tonks, defying her life threatening disease, but ...\n",
       "4699    Larisa is 16 and lives in a city by the sea. It's a small city, where gossip...\n",
       "Name: overview, Length: 4700, dtype: object"
      ]
     },
     "execution_count": 13,
     "metadata": {},
     "output_type": "execute_result"
    }
   ],
   "source": [
    "df_movies.overview"
   ]
  },
  {
   "cell_type": "code",
   "execution_count": 14,
   "metadata": {},
   "outputs": [
    {
     "data": {
      "text/plain": [
       "0       [{'iso_639_1': 'en', 'name': 'English'}, {'iso_639_1': 'es', 'name': 'Españo...\n",
       "1                                              [{'iso_639_1': 'en', 'name': 'English'}]\n",
       "2       [{'iso_639_1': 'fr', 'name': 'Français'}, {'iso_639_1': 'en', 'name': 'Engli...\n",
       "3                                              [{'iso_639_1': 'en', 'name': 'English'}]\n",
       "4                                              [{'iso_639_1': 'en', 'name': 'English'}]\n",
       "                                             ...                                       \n",
       "4695                                             [{'iso_639_1': 'fa', 'name': 'فارسی'}]\n",
       "4696                                           [{'iso_639_1': 'en', 'name': 'English'}]\n",
       "4697                                           [{'iso_639_1': 'en', 'name': 'English'}]\n",
       "4698                                           [{'iso_639_1': 'en', 'name': 'English'}]\n",
       "4699                                            [{'iso_639_1': 'ro', 'name': 'Română'}]\n",
       "Name: spoken_languages, Length: 4700, dtype: object"
      ]
     },
     "execution_count": 14,
     "metadata": {},
     "output_type": "execute_result"
    }
   ],
   "source": [
    "df_movies.spoken_languages"
   ]
  },
  {
   "cell_type": "code",
   "execution_count": 15,
   "metadata": {},
   "outputs": [
    {
     "data": {
      "text/plain": [
       "array(['budget', 'genres', 'homepage', 'id', 'keywords',\n",
       "       'original_language', 'original_title', 'overview', 'popularity',\n",
       "       'production_companies', 'production_countries', 'release_date',\n",
       "       'revenue', 'runtime', 'spoken_languages', 'status', 'tagline',\n",
       "       'title', 'vote_average', 'vote_count'], dtype=object)"
      ]
     },
     "execution_count": 15,
     "metadata": {},
     "output_type": "execute_result"
    }
   ],
   "source": [
    "df_movies.columns.values"
   ]
  },
  {
   "cell_type": "code",
   "execution_count": 16,
   "metadata": {},
   "outputs": [
    {
     "data": {
      "text/plain": [
       "0       [{'name': 'Ingenious Film Partners', 'id': 289}, {'name': 'Twentieth Century...\n",
       "1       [{'name': 'Walt Disney Pictures', 'id': 2}, {'name': 'Jerry Bruckheimer Film...\n",
       "2       [{'name': 'Columbia Pictures', 'id': 5}, {'name': 'Danjaq', 'id': 10761}, {'...\n",
       "3       [{'name': 'Legendary Pictures', 'id': 923}, {'name': 'Warner Bros.', 'id': 6...\n",
       "4                                           [{'name': 'Walt Disney Pictures', 'id': 2}]\n",
       "                                             ...                                       \n",
       "4695    [{'name': 'The Institute for the Intellectual Development of Children & Youn...\n",
       "4696    [{'name': 'EM Media', 'id': 1917}, {'name': 'The Bureau', 'id': 10441}, {'na...\n",
       "4697                              [{'name': '40 Acres & A Mule Filmworks', 'id': 4319}]\n",
       "4698                                                                                 []\n",
       "4699                                                                                 []\n",
       "Name: production_companies, Length: 4700, dtype: object"
      ]
     },
     "execution_count": 16,
     "metadata": {},
     "output_type": "execute_result"
    }
   ],
   "source": [
    "df_movies.production_companies"
   ]
  },
  {
   "cell_type": "code",
   "execution_count": 17,
   "metadata": {},
   "outputs": [],
   "source": [
    "df = df_movies[[\"id\", \"title\", \"popularity\", \"vote_average\", \"vote_count\", \"runtime\", \"release_date\"]]"
   ]
  },
  {
   "cell_type": "code",
   "execution_count": null,
   "metadata": {},
   "outputs": [],
   "source": []
  },
  {
   "cell_type": "code",
   "execution_count": 18,
   "metadata": {},
   "outputs": [
    {
     "data": {
      "text/html": [
       "<div>\n",
       "<style scoped>\n",
       "    .dataframe tbody tr th:only-of-type {\n",
       "        vertical-align: middle;\n",
       "    }\n",
       "\n",
       "    .dataframe tbody tr th {\n",
       "        vertical-align: top;\n",
       "    }\n",
       "\n",
       "    .dataframe thead th {\n",
       "        text-align: right;\n",
       "    }\n",
       "</style>\n",
       "<table border=\"1\" class=\"dataframe\">\n",
       "  <thead>\n",
       "    <tr style=\"text-align: right;\">\n",
       "      <th></th>\n",
       "      <th>id</th>\n",
       "      <th>title</th>\n",
       "      <th>popularity</th>\n",
       "      <th>vote_average</th>\n",
       "      <th>vote_count</th>\n",
       "      <th>runtime</th>\n",
       "      <th>release_date</th>\n",
       "    </tr>\n",
       "  </thead>\n",
       "  <tbody>\n",
       "    <tr>\n",
       "      <td>0</td>\n",
       "      <td>19995</td>\n",
       "      <td>Avatar</td>\n",
       "      <td>150.437577</td>\n",
       "      <td>7.2</td>\n",
       "      <td>11800</td>\n",
       "      <td>162.0</td>\n",
       "      <td>2009-12-10</td>\n",
       "    </tr>\n",
       "  </tbody>\n",
       "</table>\n",
       "</div>"
      ],
      "text/plain": [
       "      id   title  popularity  vote_average  vote_count  runtime release_date\n",
       "0  19995  Avatar  150.437577           7.2       11800    162.0   2009-12-10"
      ]
     },
     "execution_count": 18,
     "metadata": {},
     "output_type": "execute_result"
    }
   ],
   "source": [
    "df[df.title == \"Avatar\"]"
   ]
  },
  {
   "cell_type": "code",
   "execution_count": 19,
   "metadata": {},
   "outputs": [],
   "source": [
    "def info_json_object_to_list(json_in, atribute):\n",
    "    aux = []\n",
    "    for row in json_in:\n",
    "        aux.append(row[atribute])\n",
    "    return aux\n",
    "\n",
    "get_namelist = lambda x: info_json_object_to_list(x, \"name\")\n"
   ]
  },
  {
   "cell_type": "code",
   "execution_count": 20,
   "metadata": {},
   "outputs": [],
   "source": [
    "def crew_json_object_to_list(json_in, atribute):\n",
    "    aux = []\n",
    "    for e in json_in:\n",
    "        e = dict(e)\n",
    "        for key, value in e.items():\n",
    "            if key==\"job\":\n",
    "                if value == atribute:\n",
    "                    aux.append(e[\"name\"])\n",
    "    return aux\n",
    "\n",
    "get_director = lambda x: crew_json_object_to_list(x, \"Director\")\n",
    "get_producer = lambda x: crew_json_object_to_list(x, \"Producer\")\n",
    "get_screenplay = lambda x: crew_json_object_to_list(x, \"Screenplay\")\n",
    "get_writer   = lambda x: crew_json_object_to_list(x, \"Writer\")\n"
   ]
  },
  {
   "cell_type": "code",
   "execution_count": 21,
   "metadata": {},
   "outputs": [
    {
     "name": "stdout",
     "output_type": "stream",
     "text": [
      "Director\n",
      " 0                   [James Cameron]\n",
      "1                  [Gore Verbinski]\n",
      "2                      [Sam Mendes]\n",
      "3               [Christopher Nolan]\n",
      "4                  [Andrew Stanton]\n",
      "                   ...             \n",
      "4695                 [Majid Majidi]\n",
      "4696                 [Andrew Haigh]\n",
      "4697                    [Spike Lee]\n",
      "4698                    [Cary Bell]\n",
      "4699    [Nicolae Constantin Tanase]\n",
      "Name: crew, Length: 4700, dtype: object\n",
      "Producer\n",
      " 0                                                 [James Cameron, Jon Landau]\n",
      "1       [Jerry Bruckheimer, Eric McLeod, Chad Oman, Peter Kohn, Pat Sandston]\n",
      "2                                       [Barbara Broccoli, Michael G. Wilson]\n",
      "3                             [Charles Roven, Christopher Nolan, Emma Thomas]\n",
      "4                                 [Colin Wilson, Jim Morris, Lindsey Collins]\n",
      "                                        ...                                  \n",
      "4695                                                                       []\n",
      "4696                                                                       []\n",
      "4697                                                              [Spike Lee]\n",
      "4698                              [Jessica Miller, Cary Bell, Susan Grossman]\n",
      "4699                                             [Tudor Giurgiu, Radu Stancu]\n",
      "Name: crew, Length: 4700, dtype: object\n",
      "Screenplay\n",
      " 0                                               [James Cameron]\n",
      "1                                   [Ted Elliott, Terry Rossio]\n",
      "2       [John Logan, Robert Wade, Neal Purvis, Jez Butterworth]\n",
      "3                           [Christopher Nolan, Jonathan Nolan]\n",
      "4                [Andrew Stanton, Michael Chabon, Mark Andrews]\n",
      "                                 ...                           \n",
      "4695                                                         []\n",
      "4696                                                         []\n",
      "4697                                                         []\n",
      "4698                                                         []\n",
      "4699                                           [Raluca Manescu]\n",
      "Name: crew, Length: 4700, dtype: object\n",
      "Writer\n",
      " 0       [James Cameron]\n",
      "1                    []\n",
      "2                    []\n",
      "3                    []\n",
      "4                    []\n",
      "             ...       \n",
      "4695     [Majid Majidi]\n",
      "4696     [Andrew Haigh]\n",
      "4697        [Spike Lee]\n",
      "4698                 []\n",
      "4699                 []\n",
      "Name: crew, Length: 4700, dtype: object\n"
     ]
    }
   ],
   "source": [
    "print(\"Director\\n\", df_credits.crew.apply(get_director))\n",
    "print(\"Producer\\n\", df_credits.crew.apply(get_producer))\n",
    "print(\"Screenplay\\n\", df_credits.crew.apply(get_screenplay))\n",
    "print(\"Writer\\n\", df_credits.crew.apply(get_writer))"
   ]
  },
  {
   "cell_type": "code",
   "execution_count": 22,
   "metadata": {},
   "outputs": [
    {
     "data": {
      "text/plain": [
       "0       [Action, Adventure, Fantasy, Science Fiction]\n",
       "1                        [Adventure, Fantasy, Action]\n",
       "2                          [Action, Adventure, Crime]\n",
       "3                    [Action, Crime, Drama, Thriller]\n",
       "4                [Action, Adventure, Science Fiction]\n",
       "                            ...                      \n",
       "4695                          [Drama, Comedy, Family]\n",
       "4696                                 [Drama, Romance]\n",
       "4697                                [Comedy, Romance]\n",
       "4698                                    [Documentary]\n",
       "4699                                          [Drama]\n",
       "Name: genres, Length: 4700, dtype: object"
      ]
     },
     "execution_count": 22,
     "metadata": {},
     "output_type": "execute_result"
    }
   ],
   "source": [
    "df_movies.genres.apply(get_namelist)"
   ]
  },
  {
   "cell_type": "code",
   "execution_count": 23,
   "metadata": {},
   "outputs": [
    {
     "data": {
      "text/html": [
       "<div>\n",
       "<style scoped>\n",
       "    .dataframe tbody tr th:only-of-type {\n",
       "        vertical-align: middle;\n",
       "    }\n",
       "\n",
       "    .dataframe tbody tr th {\n",
       "        vertical-align: top;\n",
       "    }\n",
       "\n",
       "    .dataframe thead th {\n",
       "        text-align: right;\n",
       "    }\n",
       "</style>\n",
       "<table border=\"1\" class=\"dataframe\">\n",
       "  <thead>\n",
       "    <tr style=\"text-align: right;\">\n",
       "      <th></th>\n",
       "      <th>id</th>\n",
       "      <th>title</th>\n",
       "      <th>popularity</th>\n",
       "      <th>vote_average</th>\n",
       "      <th>vote_count</th>\n",
       "      <th>runtime</th>\n",
       "      <th>release_date</th>\n",
       "    </tr>\n",
       "  </thead>\n",
       "  <tbody>\n",
       "    <tr>\n",
       "      <td>0</td>\n",
       "      <td>19995</td>\n",
       "      <td>Avatar</td>\n",
       "      <td>150.437577</td>\n",
       "      <td>7.2</td>\n",
       "      <td>11800</td>\n",
       "      <td>162.0</td>\n",
       "      <td>2009-12-10</td>\n",
       "    </tr>\n",
       "    <tr>\n",
       "      <td>1</td>\n",
       "      <td>285</td>\n",
       "      <td>Pirates of the Caribbean: At World's End</td>\n",
       "      <td>139.082615</td>\n",
       "      <td>6.9</td>\n",
       "      <td>4500</td>\n",
       "      <td>169.0</td>\n",
       "      <td>2007-05-19</td>\n",
       "    </tr>\n",
       "    <tr>\n",
       "      <td>2</td>\n",
       "      <td>206647</td>\n",
       "      <td>Spectre</td>\n",
       "      <td>107.376788</td>\n",
       "      <td>6.3</td>\n",
       "      <td>4466</td>\n",
       "      <td>148.0</td>\n",
       "      <td>2015-10-26</td>\n",
       "    </tr>\n",
       "    <tr>\n",
       "      <td>3</td>\n",
       "      <td>49026</td>\n",
       "      <td>The Dark Knight Rises</td>\n",
       "      <td>112.312950</td>\n",
       "      <td>7.6</td>\n",
       "      <td>9106</td>\n",
       "      <td>165.0</td>\n",
       "      <td>2012-07-16</td>\n",
       "    </tr>\n",
       "    <tr>\n",
       "      <td>4</td>\n",
       "      <td>49529</td>\n",
       "      <td>John Carter</td>\n",
       "      <td>43.926995</td>\n",
       "      <td>6.1</td>\n",
       "      <td>2124</td>\n",
       "      <td>132.0</td>\n",
       "      <td>2012-03-07</td>\n",
       "    </tr>\n",
       "    <tr>\n",
       "      <td>...</td>\n",
       "      <td>...</td>\n",
       "      <td>...</td>\n",
       "      <td>...</td>\n",
       "      <td>...</td>\n",
       "      <td>...</td>\n",
       "      <td>...</td>\n",
       "      <td>...</td>\n",
       "    </tr>\n",
       "    <tr>\n",
       "      <td>4695</td>\n",
       "      <td>21334</td>\n",
       "      <td>Children of Heaven</td>\n",
       "      <td>7.072118</td>\n",
       "      <td>7.8</td>\n",
       "      <td>112</td>\n",
       "      <td>89.0</td>\n",
       "      <td>1997-08-01</td>\n",
       "    </tr>\n",
       "    <tr>\n",
       "      <td>4696</td>\n",
       "      <td>79120</td>\n",
       "      <td>Weekend</td>\n",
       "      <td>1.041254</td>\n",
       "      <td>7.4</td>\n",
       "      <td>163</td>\n",
       "      <td>96.0</td>\n",
       "      <td>2011-09-22</td>\n",
       "    </tr>\n",
       "    <tr>\n",
       "      <td>4697</td>\n",
       "      <td>27995</td>\n",
       "      <td>She's Gotta Have It</td>\n",
       "      <td>6.722213</td>\n",
       "      <td>6.1</td>\n",
       "      <td>25</td>\n",
       "      <td>84.0</td>\n",
       "      <td>1986-08-08</td>\n",
       "    </tr>\n",
       "    <tr>\n",
       "      <td>4698</td>\n",
       "      <td>253290</td>\n",
       "      <td>Butterfly Girl</td>\n",
       "      <td>0.015189</td>\n",
       "      <td>0.0</td>\n",
       "      <td>0</td>\n",
       "      <td>77.0</td>\n",
       "      <td>2014-03-10</td>\n",
       "    </tr>\n",
       "    <tr>\n",
       "      <td>4699</td>\n",
       "      <td>344466</td>\n",
       "      <td>The World Is Mine</td>\n",
       "      <td>0.327622</td>\n",
       "      <td>0.0</td>\n",
       "      <td>0</td>\n",
       "      <td>104.0</td>\n",
       "      <td>2015-06-05</td>\n",
       "    </tr>\n",
       "  </tbody>\n",
       "</table>\n",
       "<p>4700 rows × 7 columns</p>\n",
       "</div>"
      ],
      "text/plain": [
       "          id                                     title  popularity  \\\n",
       "0      19995                                    Avatar  150.437577   \n",
       "1        285  Pirates of the Caribbean: At World's End  139.082615   \n",
       "2     206647                                   Spectre  107.376788   \n",
       "3      49026                     The Dark Knight Rises  112.312950   \n",
       "4      49529                               John Carter   43.926995   \n",
       "...      ...                                       ...         ...   \n",
       "4695   21334                        Children of Heaven    7.072118   \n",
       "4696   79120                                   Weekend    1.041254   \n",
       "4697   27995                       She's Gotta Have It    6.722213   \n",
       "4698  253290                            Butterfly Girl    0.015189   \n",
       "4699  344466                         The World Is Mine    0.327622   \n",
       "\n",
       "      vote_average  vote_count  runtime release_date  \n",
       "0              7.2       11800    162.0   2009-12-10  \n",
       "1              6.9        4500    169.0   2007-05-19  \n",
       "2              6.3        4466    148.0   2015-10-26  \n",
       "3              7.6        9106    165.0   2012-07-16  \n",
       "4              6.1        2124    132.0   2012-03-07  \n",
       "...            ...         ...      ...          ...  \n",
       "4695           7.8         112     89.0   1997-08-01  \n",
       "4696           7.4         163     96.0   2011-09-22  \n",
       "4697           6.1          25     84.0   1986-08-08  \n",
       "4698           0.0           0     77.0   2014-03-10  \n",
       "4699           0.0           0    104.0   2015-06-05  \n",
       "\n",
       "[4700 rows x 7 columns]"
      ]
     },
     "execution_count": 23,
     "metadata": {},
     "output_type": "execute_result"
    }
   ],
   "source": [
    "df"
   ]
  },
  {
   "cell_type": "code",
   "execution_count": 24,
   "metadata": {},
   "outputs": [
    {
     "name": "stderr",
     "output_type": "stream",
     "text": [
      "/home/user/anaconda3/lib/python3.7/site-packages/ipykernel_launcher.py:1: SettingWithCopyWarning: \n",
      "A value is trying to be set on a copy of a slice from a DataFrame.\n",
      "Try using .loc[row_indexer,col_indexer] = value instead\n",
      "\n",
      "See the caveats in the documentation: http://pandas.pydata.org/pandas-docs/stable/user_guide/indexing.html#returning-a-view-versus-a-copy\n",
      "  \"\"\"Entry point for launching an IPython kernel.\n"
     ]
    }
   ],
   "source": [
    "df[\"genres\"] = df_movies.genres.apply(get_namelist)"
   ]
  },
  {
   "cell_type": "code",
   "execution_count": 25,
   "metadata": {},
   "outputs": [
    {
     "data": {
      "text/html": [
       "<div>\n",
       "<style scoped>\n",
       "    .dataframe tbody tr th:only-of-type {\n",
       "        vertical-align: middle;\n",
       "    }\n",
       "\n",
       "    .dataframe tbody tr th {\n",
       "        vertical-align: top;\n",
       "    }\n",
       "\n",
       "    .dataframe thead th {\n",
       "        text-align: right;\n",
       "    }\n",
       "</style>\n",
       "<table border=\"1\" class=\"dataframe\">\n",
       "  <thead>\n",
       "    <tr style=\"text-align: right;\">\n",
       "      <th></th>\n",
       "      <th>movie_id</th>\n",
       "      <th>title</th>\n",
       "      <th>cast</th>\n",
       "      <th>crew</th>\n",
       "    </tr>\n",
       "  </thead>\n",
       "  <tbody>\n",
       "    <tr>\n",
       "      <td>0</td>\n",
       "      <td>19995</td>\n",
       "      <td>Avatar</td>\n",
       "      <td>[{'cast_id': 242, 'character': 'Jake Sully', 'credit_id': '5602a8a7c3a368553...</td>\n",
       "      <td>[{'credit_id': '52fe48009251416c750aca23', 'department': 'Editing', 'gender'...</td>\n",
       "    </tr>\n",
       "    <tr>\n",
       "      <td>1</td>\n",
       "      <td>285</td>\n",
       "      <td>Pirates of the Caribbean: At World's End</td>\n",
       "      <td>[{'cast_id': 4, 'character': 'Captain Jack Sparrow', 'credit_id': '52fe4232c...</td>\n",
       "      <td>[{'credit_id': '52fe4232c3a36847f800b579', 'department': 'Camera', 'gender':...</td>\n",
       "    </tr>\n",
       "    <tr>\n",
       "      <td>2</td>\n",
       "      <td>206647</td>\n",
       "      <td>Spectre</td>\n",
       "      <td>[{'cast_id': 1, 'character': 'James Bond', 'credit_id': '52fe4d22c3a368484e1...</td>\n",
       "      <td>[{'credit_id': '54805967c3a36829b5002c41', 'department': 'Sound', 'gender': ...</td>\n",
       "    </tr>\n",
       "    <tr>\n",
       "      <td>3</td>\n",
       "      <td>49026</td>\n",
       "      <td>The Dark Knight Rises</td>\n",
       "      <td>[{'cast_id': 2, 'character': 'Bruce Wayne / Batman', 'credit_id': '52fe4781c...</td>\n",
       "      <td>[{'credit_id': '52fe4781c3a36847f81398c3', 'department': 'Sound', 'gender': ...</td>\n",
       "    </tr>\n",
       "    <tr>\n",
       "      <td>4</td>\n",
       "      <td>49529</td>\n",
       "      <td>John Carter</td>\n",
       "      <td>[{'cast_id': 5, 'character': 'John Carter', 'credit_id': '52fe479ac3a36847f8...</td>\n",
       "      <td>[{'credit_id': '52fe479ac3a36847f813eaa3', 'department': 'Writing', 'gender'...</td>\n",
       "    </tr>\n",
       "    <tr>\n",
       "      <td>...</td>\n",
       "      <td>...</td>\n",
       "      <td>...</td>\n",
       "      <td>...</td>\n",
       "      <td>...</td>\n",
       "    </tr>\n",
       "    <tr>\n",
       "      <td>4695</td>\n",
       "      <td>21334</td>\n",
       "      <td>Children of Heaven</td>\n",
       "      <td>[{'cast_id': 1, 'character': 'Ali's Father', 'credit_id': '52fe4414c3a368484...</td>\n",
       "      <td>[{'credit_id': '52fe4414c3a368484e00e4b5', 'department': 'Directing', 'gende...</td>\n",
       "    </tr>\n",
       "    <tr>\n",
       "      <td>4696</td>\n",
       "      <td>79120</td>\n",
       "      <td>Weekend</td>\n",
       "      <td>[{'cast_id': 1000, 'character': 'Russell', 'credit_id': '52fe49c2c3a368484e1...</td>\n",
       "      <td>[{'credit_id': '52fe49c2c3a368484e13e4e1', 'department': 'Directing', 'gende...</td>\n",
       "    </tr>\n",
       "    <tr>\n",
       "      <td>4697</td>\n",
       "      <td>27995</td>\n",
       "      <td>She's Gotta Have It</td>\n",
       "      <td>[{'cast_id': 3, 'character': 'Nola Darling', 'credit_id': '52fe4572c3a368484...</td>\n",
       "      <td>[{'credit_id': '584a62c292514119bc01c8b0', 'department': 'Art', 'gender': 0,...</td>\n",
       "    </tr>\n",
       "    <tr>\n",
       "      <td>4698</td>\n",
       "      <td>253290</td>\n",
       "      <td>Butterfly Girl</td>\n",
       "      <td>[]</td>\n",
       "      <td>[{'credit_id': '5305c66dc3a3685a711726c1', 'department': 'Production', 'gend...</td>\n",
       "    </tr>\n",
       "    <tr>\n",
       "      <td>4699</td>\n",
       "      <td>344466</td>\n",
       "      <td>The World Is Mine</td>\n",
       "      <td>[{'cast_id': 1, 'character': 'Larisa', 'credit_id': '55a0da2c9251412971000f9...</td>\n",
       "      <td>[{'credit_id': '55a0db7d9251412971000fc0', 'department': 'Production', 'gend...</td>\n",
       "    </tr>\n",
       "  </tbody>\n",
       "</table>\n",
       "<p>4700 rows × 4 columns</p>\n",
       "</div>"
      ],
      "text/plain": [
       "      movie_id                                     title  \\\n",
       "0        19995                                    Avatar   \n",
       "1          285  Pirates of the Caribbean: At World's End   \n",
       "2       206647                                   Spectre   \n",
       "3        49026                     The Dark Knight Rises   \n",
       "4        49529                               John Carter   \n",
       "...        ...                                       ...   \n",
       "4695     21334                        Children of Heaven   \n",
       "4696     79120                                   Weekend   \n",
       "4697     27995                       She's Gotta Have It   \n",
       "4698    253290                            Butterfly Girl   \n",
       "4699    344466                         The World Is Mine   \n",
       "\n",
       "                                                                                 cast  \\\n",
       "0     [{'cast_id': 242, 'character': 'Jake Sully', 'credit_id': '5602a8a7c3a368553...   \n",
       "1     [{'cast_id': 4, 'character': 'Captain Jack Sparrow', 'credit_id': '52fe4232c...   \n",
       "2     [{'cast_id': 1, 'character': 'James Bond', 'credit_id': '52fe4d22c3a368484e1...   \n",
       "3     [{'cast_id': 2, 'character': 'Bruce Wayne / Batman', 'credit_id': '52fe4781c...   \n",
       "4     [{'cast_id': 5, 'character': 'John Carter', 'credit_id': '52fe479ac3a36847f8...   \n",
       "...                                                                               ...   \n",
       "4695  [{'cast_id': 1, 'character': 'Ali's Father', 'credit_id': '52fe4414c3a368484...   \n",
       "4696  [{'cast_id': 1000, 'character': 'Russell', 'credit_id': '52fe49c2c3a368484e1...   \n",
       "4697  [{'cast_id': 3, 'character': 'Nola Darling', 'credit_id': '52fe4572c3a368484...   \n",
       "4698                                                                               []   \n",
       "4699  [{'cast_id': 1, 'character': 'Larisa', 'credit_id': '55a0da2c9251412971000f9...   \n",
       "\n",
       "                                                                                 crew  \n",
       "0     [{'credit_id': '52fe48009251416c750aca23', 'department': 'Editing', 'gender'...  \n",
       "1     [{'credit_id': '52fe4232c3a36847f800b579', 'department': 'Camera', 'gender':...  \n",
       "2     [{'credit_id': '54805967c3a36829b5002c41', 'department': 'Sound', 'gender': ...  \n",
       "3     [{'credit_id': '52fe4781c3a36847f81398c3', 'department': 'Sound', 'gender': ...  \n",
       "4     [{'credit_id': '52fe479ac3a36847f813eaa3', 'department': 'Writing', 'gender'...  \n",
       "...                                                                               ...  \n",
       "4695  [{'credit_id': '52fe4414c3a368484e00e4b5', 'department': 'Directing', 'gende...  \n",
       "4696  [{'credit_id': '52fe49c2c3a368484e13e4e1', 'department': 'Directing', 'gende...  \n",
       "4697  [{'credit_id': '584a62c292514119bc01c8b0', 'department': 'Art', 'gender': 0,...  \n",
       "4698  [{'credit_id': '5305c66dc3a3685a711726c1', 'department': 'Production', 'gend...  \n",
       "4699  [{'credit_id': '55a0db7d9251412971000fc0', 'department': 'Production', 'gend...  \n",
       "\n",
       "[4700 rows x 4 columns]"
      ]
     },
     "execution_count": 25,
     "metadata": {},
     "output_type": "execute_result"
    }
   ],
   "source": [
    "df_credits"
   ]
  },
  {
   "cell_type": "code",
   "execution_count": 26,
   "metadata": {},
   "outputs": [
    {
     "data": {
      "text/html": [
       "<div>\n",
       "<style scoped>\n",
       "    .dataframe tbody tr th:only-of-type {\n",
       "        vertical-align: middle;\n",
       "    }\n",
       "\n",
       "    .dataframe tbody tr th {\n",
       "        vertical-align: top;\n",
       "    }\n",
       "\n",
       "    .dataframe thead th {\n",
       "        text-align: right;\n",
       "    }\n",
       "</style>\n",
       "<table border=\"1\" class=\"dataframe\">\n",
       "  <thead>\n",
       "    <tr style=\"text-align: right;\">\n",
       "      <th></th>\n",
       "      <th>id</th>\n",
       "      <th>title</th>\n",
       "      <th>popularity</th>\n",
       "      <th>vote_average</th>\n",
       "      <th>vote_count</th>\n",
       "      <th>runtime</th>\n",
       "      <th>release_date</th>\n",
       "      <th>genres</th>\n",
       "    </tr>\n",
       "  </thead>\n",
       "  <tbody>\n",
       "    <tr>\n",
       "      <td>0</td>\n",
       "      <td>19995</td>\n",
       "      <td>Avatar</td>\n",
       "      <td>150.437577</td>\n",
       "      <td>7.2</td>\n",
       "      <td>11800</td>\n",
       "      <td>162.0</td>\n",
       "      <td>2009-12-10</td>\n",
       "      <td>[Action, Adventure, Fantasy, Science Fiction]</td>\n",
       "    </tr>\n",
       "    <tr>\n",
       "      <td>1</td>\n",
       "      <td>285</td>\n",
       "      <td>Pirates of the Caribbean: At World's End</td>\n",
       "      <td>139.082615</td>\n",
       "      <td>6.9</td>\n",
       "      <td>4500</td>\n",
       "      <td>169.0</td>\n",
       "      <td>2007-05-19</td>\n",
       "      <td>[Adventure, Fantasy, Action]</td>\n",
       "    </tr>\n",
       "    <tr>\n",
       "      <td>2</td>\n",
       "      <td>206647</td>\n",
       "      <td>Spectre</td>\n",
       "      <td>107.376788</td>\n",
       "      <td>6.3</td>\n",
       "      <td>4466</td>\n",
       "      <td>148.0</td>\n",
       "      <td>2015-10-26</td>\n",
       "      <td>[Action, Adventure, Crime]</td>\n",
       "    </tr>\n",
       "    <tr>\n",
       "      <td>3</td>\n",
       "      <td>49026</td>\n",
       "      <td>The Dark Knight Rises</td>\n",
       "      <td>112.312950</td>\n",
       "      <td>7.6</td>\n",
       "      <td>9106</td>\n",
       "      <td>165.0</td>\n",
       "      <td>2012-07-16</td>\n",
       "      <td>[Action, Crime, Drama, Thriller]</td>\n",
       "    </tr>\n",
       "    <tr>\n",
       "      <td>4</td>\n",
       "      <td>49529</td>\n",
       "      <td>John Carter</td>\n",
       "      <td>43.926995</td>\n",
       "      <td>6.1</td>\n",
       "      <td>2124</td>\n",
       "      <td>132.0</td>\n",
       "      <td>2012-03-07</td>\n",
       "      <td>[Action, Adventure, Science Fiction]</td>\n",
       "    </tr>\n",
       "    <tr>\n",
       "      <td>...</td>\n",
       "      <td>...</td>\n",
       "      <td>...</td>\n",
       "      <td>...</td>\n",
       "      <td>...</td>\n",
       "      <td>...</td>\n",
       "      <td>...</td>\n",
       "      <td>...</td>\n",
       "      <td>...</td>\n",
       "    </tr>\n",
       "    <tr>\n",
       "      <td>4695</td>\n",
       "      <td>21334</td>\n",
       "      <td>Children of Heaven</td>\n",
       "      <td>7.072118</td>\n",
       "      <td>7.8</td>\n",
       "      <td>112</td>\n",
       "      <td>89.0</td>\n",
       "      <td>1997-08-01</td>\n",
       "      <td>[Drama, Comedy, Family]</td>\n",
       "    </tr>\n",
       "    <tr>\n",
       "      <td>4696</td>\n",
       "      <td>79120</td>\n",
       "      <td>Weekend</td>\n",
       "      <td>1.041254</td>\n",
       "      <td>7.4</td>\n",
       "      <td>163</td>\n",
       "      <td>96.0</td>\n",
       "      <td>2011-09-22</td>\n",
       "      <td>[Drama, Romance]</td>\n",
       "    </tr>\n",
       "    <tr>\n",
       "      <td>4697</td>\n",
       "      <td>27995</td>\n",
       "      <td>She's Gotta Have It</td>\n",
       "      <td>6.722213</td>\n",
       "      <td>6.1</td>\n",
       "      <td>25</td>\n",
       "      <td>84.0</td>\n",
       "      <td>1986-08-08</td>\n",
       "      <td>[Comedy, Romance]</td>\n",
       "    </tr>\n",
       "    <tr>\n",
       "      <td>4698</td>\n",
       "      <td>253290</td>\n",
       "      <td>Butterfly Girl</td>\n",
       "      <td>0.015189</td>\n",
       "      <td>0.0</td>\n",
       "      <td>0</td>\n",
       "      <td>77.0</td>\n",
       "      <td>2014-03-10</td>\n",
       "      <td>[Documentary]</td>\n",
       "    </tr>\n",
       "    <tr>\n",
       "      <td>4699</td>\n",
       "      <td>344466</td>\n",
       "      <td>The World Is Mine</td>\n",
       "      <td>0.327622</td>\n",
       "      <td>0.0</td>\n",
       "      <td>0</td>\n",
       "      <td>104.0</td>\n",
       "      <td>2015-06-05</td>\n",
       "      <td>[Drama]</td>\n",
       "    </tr>\n",
       "  </tbody>\n",
       "</table>\n",
       "<p>4700 rows × 8 columns</p>\n",
       "</div>"
      ],
      "text/plain": [
       "          id                                     title  popularity  \\\n",
       "0      19995                                    Avatar  150.437577   \n",
       "1        285  Pirates of the Caribbean: At World's End  139.082615   \n",
       "2     206647                                   Spectre  107.376788   \n",
       "3      49026                     The Dark Knight Rises  112.312950   \n",
       "4      49529                               John Carter   43.926995   \n",
       "...      ...                                       ...         ...   \n",
       "4695   21334                        Children of Heaven    7.072118   \n",
       "4696   79120                                   Weekend    1.041254   \n",
       "4697   27995                       She's Gotta Have It    6.722213   \n",
       "4698  253290                            Butterfly Girl    0.015189   \n",
       "4699  344466                         The World Is Mine    0.327622   \n",
       "\n",
       "      vote_average  vote_count  runtime release_date  \\\n",
       "0              7.2       11800    162.0   2009-12-10   \n",
       "1              6.9        4500    169.0   2007-05-19   \n",
       "2              6.3        4466    148.0   2015-10-26   \n",
       "3              7.6        9106    165.0   2012-07-16   \n",
       "4              6.1        2124    132.0   2012-03-07   \n",
       "...            ...         ...      ...          ...   \n",
       "4695           7.8         112     89.0   1997-08-01   \n",
       "4696           7.4         163     96.0   2011-09-22   \n",
       "4697           6.1          25     84.0   1986-08-08   \n",
       "4698           0.0           0     77.0   2014-03-10   \n",
       "4699           0.0           0    104.0   2015-06-05   \n",
       "\n",
       "                                             genres  \n",
       "0     [Action, Adventure, Fantasy, Science Fiction]  \n",
       "1                      [Adventure, Fantasy, Action]  \n",
       "2                        [Action, Adventure, Crime]  \n",
       "3                  [Action, Crime, Drama, Thriller]  \n",
       "4              [Action, Adventure, Science Fiction]  \n",
       "...                                             ...  \n",
       "4695                        [Drama, Comedy, Family]  \n",
       "4696                               [Drama, Romance]  \n",
       "4697                              [Comedy, Romance]  \n",
       "4698                                  [Documentary]  \n",
       "4699                                        [Drama]  \n",
       "\n",
       "[4700 rows x 8 columns]"
      ]
     },
     "execution_count": 26,
     "metadata": {},
     "output_type": "execute_result"
    }
   ],
   "source": [
    "df"
   ]
  },
  {
   "cell_type": "code",
   "execution_count": 27,
   "metadata": {},
   "outputs": [
    {
     "name": "stderr",
     "output_type": "stream",
     "text": [
      "/home/user/anaconda3/lib/python3.7/site-packages/ipykernel_launcher.py:1: SettingWithCopyWarning: \n",
      "A value is trying to be set on a copy of a slice from a DataFrame.\n",
      "Try using .loc[row_indexer,col_indexer] = value instead\n",
      "\n",
      "See the caveats in the documentation: http://pandas.pydata.org/pandas-docs/stable/user_guide/indexing.html#returning-a-view-versus-a-copy\n",
      "  \"\"\"Entry point for launching an IPython kernel.\n"
     ]
    }
   ],
   "source": [
    "df[\"keywords\"] = df_movies.keywords.apply(get_namelist)"
   ]
  },
  {
   "cell_type": "code",
   "execution_count": 28,
   "metadata": {},
   "outputs": [
    {
     "name": "stdout",
     "output_type": "stream",
     "text": [
      "Director\n",
      "\n",
      "Producer\n",
      " 0                                                 [James Cameron, Jon Landau]\n",
      "1       [Jerry Bruckheimer, Eric McLeod, Chad Oman, Peter Kohn, Pat Sandston]\n",
      "2                                       [Barbara Broccoli, Michael G. Wilson]\n",
      "3                             [Charles Roven, Christopher Nolan, Emma Thomas]\n",
      "4                                 [Colin Wilson, Jim Morris, Lindsey Collins]\n",
      "                                        ...                                  \n",
      "4695                                                                       []\n",
      "4696                                                                       []\n",
      "4697                                                              [Spike Lee]\n",
      "4698                              [Jessica Miller, Cary Bell, Susan Grossman]\n",
      "4699                                             [Tudor Giurgiu, Radu Stancu]\n",
      "Name: crew, Length: 4700, dtype: object\n",
      "Screenplay\n",
      " 0                                               [James Cameron]\n",
      "1                                   [Ted Elliott, Terry Rossio]\n",
      "2       [John Logan, Robert Wade, Neal Purvis, Jez Butterworth]\n",
      "3                           [Christopher Nolan, Jonathan Nolan]\n",
      "4                [Andrew Stanton, Michael Chabon, Mark Andrews]\n",
      "                                 ...                           \n",
      "4695                                                         []\n",
      "4696                                                         []\n",
      "4697                                                         []\n",
      "4698                                                         []\n",
      "4699                                           [Raluca Manescu]\n",
      "Name: crew, Length: 4700, dtype: object\n",
      "Writer\n",
      " 0       [James Cameron]\n",
      "1                    []\n",
      "2                    []\n",
      "3                    []\n",
      "4                    []\n",
      "             ...       \n",
      "4695     [Majid Majidi]\n",
      "4696     [Andrew Haigh]\n",
      "4697        [Spike Lee]\n",
      "4698                 []\n",
      "4699                 []\n",
      "Name: crew, Length: 4700, dtype: object\n"
     ]
    }
   ],
   "source": [
    "print(\"Director\\n\", )\n",
    "print(\"Producer\\n\", df_credits.crew.apply(get_producer))\n",
    "print(\"Screenplay\\n\", df_credits.crew.apply(get_screenplay))\n",
    "print(\"Writer\\n\", df_credits.crew.apply(get_writer))"
   ]
  },
  {
   "cell_type": "code",
   "execution_count": 29,
   "metadata": {
    "scrolled": false
   },
   "outputs": [
    {
     "name": "stderr",
     "output_type": "stream",
     "text": [
      "/home/user/anaconda3/lib/python3.7/site-packages/ipykernel_launcher.py:1: SettingWithCopyWarning: \n",
      "A value is trying to be set on a copy of a slice from a DataFrame.\n",
      "Try using .loc[row_indexer,col_indexer] = value instead\n",
      "\n",
      "See the caveats in the documentation: http://pandas.pydata.org/pandas-docs/stable/user_guide/indexing.html#returning-a-view-versus-a-copy\n",
      "  \"\"\"Entry point for launching an IPython kernel.\n",
      "/home/user/anaconda3/lib/python3.7/site-packages/ipykernel_launcher.py:2: SettingWithCopyWarning: \n",
      "A value is trying to be set on a copy of a slice from a DataFrame.\n",
      "Try using .loc[row_indexer,col_indexer] = value instead\n",
      "\n",
      "See the caveats in the documentation: http://pandas.pydata.org/pandas-docs/stable/user_guide/indexing.html#returning-a-view-versus-a-copy\n",
      "  \n",
      "/home/user/anaconda3/lib/python3.7/site-packages/ipykernel_launcher.py:3: SettingWithCopyWarning: \n",
      "A value is trying to be set on a copy of a slice from a DataFrame.\n",
      "Try using .loc[row_indexer,col_indexer] = value instead\n",
      "\n",
      "See the caveats in the documentation: http://pandas.pydata.org/pandas-docs/stable/user_guide/indexing.html#returning-a-view-versus-a-copy\n",
      "  This is separate from the ipykernel package so we can avoid doing imports until\n",
      "/home/user/anaconda3/lib/python3.7/site-packages/ipykernel_launcher.py:4: SettingWithCopyWarning: \n",
      "A value is trying to be set on a copy of a slice from a DataFrame.\n",
      "Try using .loc[row_indexer,col_indexer] = value instead\n",
      "\n",
      "See the caveats in the documentation: http://pandas.pydata.org/pandas-docs/stable/user_guide/indexing.html#returning-a-view-versus-a-copy\n",
      "  after removing the cwd from sys.path.\n"
     ]
    }
   ],
   "source": [
    "df[\"director\"]   = df_credits.crew.apply(get_director)\n",
    "df[\"producer\"]   = df_credits.crew.apply(get_producer)\n",
    "df[\"screenplay\"] = df_credits.crew.apply(get_screenplay)\n",
    "df[\"writer\"]     = df_credits.crew.apply(get_writer)"
   ]
  },
  {
   "cell_type": "code",
   "execution_count": 30,
   "metadata": {},
   "outputs": [
    {
     "data": {
      "text/html": [
       "<div>\n",
       "<style scoped>\n",
       "    .dataframe tbody tr th:only-of-type {\n",
       "        vertical-align: middle;\n",
       "    }\n",
       "\n",
       "    .dataframe tbody tr th {\n",
       "        vertical-align: top;\n",
       "    }\n",
       "\n",
       "    .dataframe thead th {\n",
       "        text-align: right;\n",
       "    }\n",
       "</style>\n",
       "<table border=\"1\" class=\"dataframe\">\n",
       "  <thead>\n",
       "    <tr style=\"text-align: right;\">\n",
       "      <th></th>\n",
       "      <th>id</th>\n",
       "      <th>title</th>\n",
       "      <th>popularity</th>\n",
       "      <th>vote_average</th>\n",
       "      <th>vote_count</th>\n",
       "      <th>runtime</th>\n",
       "      <th>release_date</th>\n",
       "      <th>genres</th>\n",
       "      <th>keywords</th>\n",
       "      <th>director</th>\n",
       "      <th>producer</th>\n",
       "      <th>screenplay</th>\n",
       "      <th>writer</th>\n",
       "    </tr>\n",
       "  </thead>\n",
       "  <tbody>\n",
       "    <tr>\n",
       "      <td>0</td>\n",
       "      <td>19995</td>\n",
       "      <td>Avatar</td>\n",
       "      <td>150.437577</td>\n",
       "      <td>7.2</td>\n",
       "      <td>11800</td>\n",
       "      <td>162.0</td>\n",
       "      <td>2009-12-10</td>\n",
       "      <td>[Action, Adventure, Fantasy, Science Fiction]</td>\n",
       "      <td>[culture clash, future, space war, space colony, society, space travel, futu...</td>\n",
       "      <td>[James Cameron]</td>\n",
       "      <td>[James Cameron, Jon Landau]</td>\n",
       "      <td>[James Cameron]</td>\n",
       "      <td>[James Cameron]</td>\n",
       "    </tr>\n",
       "    <tr>\n",
       "      <td>1</td>\n",
       "      <td>285</td>\n",
       "      <td>Pirates of the Caribbean: At World's End</td>\n",
       "      <td>139.082615</td>\n",
       "      <td>6.9</td>\n",
       "      <td>4500</td>\n",
       "      <td>169.0</td>\n",
       "      <td>2007-05-19</td>\n",
       "      <td>[Adventure, Fantasy, Action]</td>\n",
       "      <td>[ocean, drug abuse, exotic island, east india trading company, love of one's...</td>\n",
       "      <td>[Gore Verbinski]</td>\n",
       "      <td>[Jerry Bruckheimer, Eric McLeod, Chad Oman, Peter Kohn, Pat Sandston]</td>\n",
       "      <td>[Ted Elliott, Terry Rossio]</td>\n",
       "      <td>[]</td>\n",
       "    </tr>\n",
       "    <tr>\n",
       "      <td>2</td>\n",
       "      <td>206647</td>\n",
       "      <td>Spectre</td>\n",
       "      <td>107.376788</td>\n",
       "      <td>6.3</td>\n",
       "      <td>4466</td>\n",
       "      <td>148.0</td>\n",
       "      <td>2015-10-26</td>\n",
       "      <td>[Action, Adventure, Crime]</td>\n",
       "      <td>[spy, based on novel, secret agent, sequel, mi6, british secret service, uni...</td>\n",
       "      <td>[Sam Mendes]</td>\n",
       "      <td>[Barbara Broccoli, Michael G. Wilson]</td>\n",
       "      <td>[John Logan, Robert Wade, Neal Purvis, Jez Butterworth]</td>\n",
       "      <td>[]</td>\n",
       "    </tr>\n",
       "    <tr>\n",
       "      <td>3</td>\n",
       "      <td>49026</td>\n",
       "      <td>The Dark Knight Rises</td>\n",
       "      <td>112.312950</td>\n",
       "      <td>7.6</td>\n",
       "      <td>9106</td>\n",
       "      <td>165.0</td>\n",
       "      <td>2012-07-16</td>\n",
       "      <td>[Action, Crime, Drama, Thriller]</td>\n",
       "      <td>[dc comics, crime fighter, terrorist, secret identity, burglar, hostage dram...</td>\n",
       "      <td>[Christopher Nolan]</td>\n",
       "      <td>[Charles Roven, Christopher Nolan, Emma Thomas]</td>\n",
       "      <td>[Christopher Nolan, Jonathan Nolan]</td>\n",
       "      <td>[]</td>\n",
       "    </tr>\n",
       "    <tr>\n",
       "      <td>4</td>\n",
       "      <td>49529</td>\n",
       "      <td>John Carter</td>\n",
       "      <td>43.926995</td>\n",
       "      <td>6.1</td>\n",
       "      <td>2124</td>\n",
       "      <td>132.0</td>\n",
       "      <td>2012-03-07</td>\n",
       "      <td>[Action, Adventure, Science Fiction]</td>\n",
       "      <td>[based on novel, mars, medallion, space travel, princess, alien, steampunk, ...</td>\n",
       "      <td>[Andrew Stanton]</td>\n",
       "      <td>[Colin Wilson, Jim Morris, Lindsey Collins]</td>\n",
       "      <td>[Andrew Stanton, Michael Chabon, Mark Andrews]</td>\n",
       "      <td>[]</td>\n",
       "    </tr>\n",
       "    <tr>\n",
       "      <td>...</td>\n",
       "      <td>...</td>\n",
       "      <td>...</td>\n",
       "      <td>...</td>\n",
       "      <td>...</td>\n",
       "      <td>...</td>\n",
       "      <td>...</td>\n",
       "      <td>...</td>\n",
       "      <td>...</td>\n",
       "      <td>...</td>\n",
       "      <td>...</td>\n",
       "      <td>...</td>\n",
       "      <td>...</td>\n",
       "      <td>...</td>\n",
       "    </tr>\n",
       "    <tr>\n",
       "      <td>4695</td>\n",
       "      <td>21334</td>\n",
       "      <td>Children of Heaven</td>\n",
       "      <td>7.072118</td>\n",
       "      <td>7.8</td>\n",
       "      <td>112</td>\n",
       "      <td>89.0</td>\n",
       "      <td>1997-08-01</td>\n",
       "      <td>[Drama, Comedy, Family]</td>\n",
       "      <td>[brother sister relationship, class, foot race]</td>\n",
       "      <td>[Majid Majidi]</td>\n",
       "      <td>[]</td>\n",
       "      <td>[]</td>\n",
       "      <td>[Majid Majidi]</td>\n",
       "    </tr>\n",
       "    <tr>\n",
       "      <td>4696</td>\n",
       "      <td>79120</td>\n",
       "      <td>Weekend</td>\n",
       "      <td>1.041254</td>\n",
       "      <td>7.4</td>\n",
       "      <td>163</td>\n",
       "      <td>96.0</td>\n",
       "      <td>2011-09-22</td>\n",
       "      <td>[Drama, Romance]</td>\n",
       "      <td>[gay, great britain, one-night stand, independent film, gay relationship]</td>\n",
       "      <td>[Andrew Haigh]</td>\n",
       "      <td>[]</td>\n",
       "      <td>[]</td>\n",
       "      <td>[Andrew Haigh]</td>\n",
       "    </tr>\n",
       "    <tr>\n",
       "      <td>4697</td>\n",
       "      <td>27995</td>\n",
       "      <td>She's Gotta Have It</td>\n",
       "      <td>6.722213</td>\n",
       "      <td>6.1</td>\n",
       "      <td>25</td>\n",
       "      <td>84.0</td>\n",
       "      <td>1986-08-08</td>\n",
       "      <td>[Comedy, Romance]</td>\n",
       "      <td>[independent film, lesbian]</td>\n",
       "      <td>[Spike Lee]</td>\n",
       "      <td>[Spike Lee]</td>\n",
       "      <td>[]</td>\n",
       "      <td>[Spike Lee]</td>\n",
       "    </tr>\n",
       "    <tr>\n",
       "      <td>4698</td>\n",
       "      <td>253290</td>\n",
       "      <td>Butterfly Girl</td>\n",
       "      <td>0.015189</td>\n",
       "      <td>0.0</td>\n",
       "      <td>0</td>\n",
       "      <td>77.0</td>\n",
       "      <td>2014-03-10</td>\n",
       "      <td>[Documentary]</td>\n",
       "      <td>[woman director]</td>\n",
       "      <td>[Cary Bell]</td>\n",
       "      <td>[Jessica Miller, Cary Bell, Susan Grossman]</td>\n",
       "      <td>[]</td>\n",
       "      <td>[]</td>\n",
       "    </tr>\n",
       "    <tr>\n",
       "      <td>4699</td>\n",
       "      <td>344466</td>\n",
       "      <td>The World Is Mine</td>\n",
       "      <td>0.327622</td>\n",
       "      <td>0.0</td>\n",
       "      <td>0</td>\n",
       "      <td>104.0</td>\n",
       "      <td>2015-06-05</td>\n",
       "      <td>[Drama]</td>\n",
       "      <td>[]</td>\n",
       "      <td>[Nicolae Constantin Tanase]</td>\n",
       "      <td>[Tudor Giurgiu, Radu Stancu]</td>\n",
       "      <td>[Raluca Manescu]</td>\n",
       "      <td>[]</td>\n",
       "    </tr>\n",
       "  </tbody>\n",
       "</table>\n",
       "<p>4700 rows × 13 columns</p>\n",
       "</div>"
      ],
      "text/plain": [
       "          id                                     title  popularity  \\\n",
       "0      19995                                    Avatar  150.437577   \n",
       "1        285  Pirates of the Caribbean: At World's End  139.082615   \n",
       "2     206647                                   Spectre  107.376788   \n",
       "3      49026                     The Dark Knight Rises  112.312950   \n",
       "4      49529                               John Carter   43.926995   \n",
       "...      ...                                       ...         ...   \n",
       "4695   21334                        Children of Heaven    7.072118   \n",
       "4696   79120                                   Weekend    1.041254   \n",
       "4697   27995                       She's Gotta Have It    6.722213   \n",
       "4698  253290                            Butterfly Girl    0.015189   \n",
       "4699  344466                         The World Is Mine    0.327622   \n",
       "\n",
       "      vote_average  vote_count  runtime release_date  \\\n",
       "0              7.2       11800    162.0   2009-12-10   \n",
       "1              6.9        4500    169.0   2007-05-19   \n",
       "2              6.3        4466    148.0   2015-10-26   \n",
       "3              7.6        9106    165.0   2012-07-16   \n",
       "4              6.1        2124    132.0   2012-03-07   \n",
       "...            ...         ...      ...          ...   \n",
       "4695           7.8         112     89.0   1997-08-01   \n",
       "4696           7.4         163     96.0   2011-09-22   \n",
       "4697           6.1          25     84.0   1986-08-08   \n",
       "4698           0.0           0     77.0   2014-03-10   \n",
       "4699           0.0           0    104.0   2015-06-05   \n",
       "\n",
       "                                             genres  \\\n",
       "0     [Action, Adventure, Fantasy, Science Fiction]   \n",
       "1                      [Adventure, Fantasy, Action]   \n",
       "2                        [Action, Adventure, Crime]   \n",
       "3                  [Action, Crime, Drama, Thriller]   \n",
       "4              [Action, Adventure, Science Fiction]   \n",
       "...                                             ...   \n",
       "4695                        [Drama, Comedy, Family]   \n",
       "4696                               [Drama, Romance]   \n",
       "4697                              [Comedy, Romance]   \n",
       "4698                                  [Documentary]   \n",
       "4699                                        [Drama]   \n",
       "\n",
       "                                                                             keywords  \\\n",
       "0     [culture clash, future, space war, space colony, society, space travel, futu...   \n",
       "1     [ocean, drug abuse, exotic island, east india trading company, love of one's...   \n",
       "2     [spy, based on novel, secret agent, sequel, mi6, british secret service, uni...   \n",
       "3     [dc comics, crime fighter, terrorist, secret identity, burglar, hostage dram...   \n",
       "4     [based on novel, mars, medallion, space travel, princess, alien, steampunk, ...   \n",
       "...                                                                               ...   \n",
       "4695                                  [brother sister relationship, class, foot race]   \n",
       "4696        [gay, great britain, one-night stand, independent film, gay relationship]   \n",
       "4697                                                      [independent film, lesbian]   \n",
       "4698                                                                 [woman director]   \n",
       "4699                                                                               []   \n",
       "\n",
       "                         director  \\\n",
       "0                 [James Cameron]   \n",
       "1                [Gore Verbinski]   \n",
       "2                    [Sam Mendes]   \n",
       "3             [Christopher Nolan]   \n",
       "4                [Andrew Stanton]   \n",
       "...                           ...   \n",
       "4695               [Majid Majidi]   \n",
       "4696               [Andrew Haigh]   \n",
       "4697                  [Spike Lee]   \n",
       "4698                  [Cary Bell]   \n",
       "4699  [Nicolae Constantin Tanase]   \n",
       "\n",
       "                                                                   producer  \\\n",
       "0                                               [James Cameron, Jon Landau]   \n",
       "1     [Jerry Bruckheimer, Eric McLeod, Chad Oman, Peter Kohn, Pat Sandston]   \n",
       "2                                     [Barbara Broccoli, Michael G. Wilson]   \n",
       "3                           [Charles Roven, Christopher Nolan, Emma Thomas]   \n",
       "4                               [Colin Wilson, Jim Morris, Lindsey Collins]   \n",
       "...                                                                     ...   \n",
       "4695                                                                     []   \n",
       "4696                                                                     []   \n",
       "4697                                                            [Spike Lee]   \n",
       "4698                            [Jessica Miller, Cary Bell, Susan Grossman]   \n",
       "4699                                           [Tudor Giurgiu, Radu Stancu]   \n",
       "\n",
       "                                                   screenplay           writer  \n",
       "0                                             [James Cameron]  [James Cameron]  \n",
       "1                                 [Ted Elliott, Terry Rossio]               []  \n",
       "2     [John Logan, Robert Wade, Neal Purvis, Jez Butterworth]               []  \n",
       "3                         [Christopher Nolan, Jonathan Nolan]               []  \n",
       "4              [Andrew Stanton, Michael Chabon, Mark Andrews]               []  \n",
       "...                                                       ...              ...  \n",
       "4695                                                       []   [Majid Majidi]  \n",
       "4696                                                       []   [Andrew Haigh]  \n",
       "4697                                                       []      [Spike Lee]  \n",
       "4698                                                       []               []  \n",
       "4699                                         [Raluca Manescu]               []  \n",
       "\n",
       "[4700 rows x 13 columns]"
      ]
     },
     "execution_count": 30,
     "metadata": {},
     "output_type": "execute_result"
    }
   ],
   "source": [
    "df"
   ]
  },
  {
   "cell_type": "code",
   "execution_count": 31,
   "metadata": {},
   "outputs": [
    {
     "data": {
      "text/plain": [
       "<matplotlib.collections.PathCollection at 0x7f16eafa3310>"
      ]
     },
     "execution_count": 31,
     "metadata": {},
     "output_type": "execute_result"
    },
    {
     "data": {
      "image/png": "[encoded data removed]",
      "text/plain": [
       "<Figure size 432x288 with 1 Axes>"
      ]
     },
     "metadata": {
      "needs_background": "light"
     },
     "output_type": "display_data"
    }
   ],
   "source": [
    "plt.scatter(df[\"vote_average\"], df[\"popularity\"])"
   ]
  },
  {
   "cell_type": "code",
   "execution_count": 32,
   "metadata": {},
   "outputs": [
    {
     "data": {
      "text/plain": [
       "<matplotlib.collections.PathCollection at 0x7f16eaf91f50>"
      ]
     },
     "execution_count": 32,
     "metadata": {},
     "output_type": "execute_result"
    },
    {
     "data": {
      "image/png": "[encoded data removed]",
      "text/plain": [
       "<Figure size 432x288 with 1 Axes>"
      ]
     },
     "metadata": {
      "needs_background": "light"
     },
     "output_type": "display_data"
    }
   ],
   "source": [
    "plt.scatter(df[\"runtime\"],df[\"vote_average\"])"
   ]
  },
  {
   "cell_type": "code",
   "execution_count": 33,
   "metadata": {},
   "outputs": [
    {
     "name": "stderr",
     "output_type": "stream",
     "text": [
      "/home/user/anaconda3/lib/python3.7/site-packages/ipykernel_launcher.py:1: SettingWithCopyWarning: \n",
      "A value is trying to be set on a copy of a slice from a DataFrame.\n",
      "Try using .loc[row_indexer,col_indexer] = value instead\n",
      "\n",
      "See the caveats in the documentation: http://pandas.pydata.org/pandas-docs/stable/user_guide/indexing.html#returning-a-view-versus-a-copy\n",
      "  \"\"\"Entry point for launching an IPython kernel.\n"
     ]
    }
   ],
   "source": [
    "df[\"budget\"] = df_movies[\"budget\"]"
   ]
  },
  {
   "cell_type": "code",
   "execution_count": 34,
   "metadata": {},
   "outputs": [
    {
     "name": "stderr",
     "output_type": "stream",
     "text": [
      "/home/user/anaconda3/lib/python3.7/site-packages/ipykernel_launcher.py:1: SettingWithCopyWarning: \n",
      "A value is trying to be set on a copy of a slice from a DataFrame.\n",
      "Try using .loc[row_indexer,col_indexer] = value instead\n",
      "\n",
      "See the caveats in the documentation: http://pandas.pydata.org/pandas-docs/stable/user_guide/indexing.html#returning-a-view-versus-a-copy\n",
      "  \"\"\"Entry point for launching an IPython kernel.\n"
     ]
    }
   ],
   "source": [
    "df[\"profit_ratio\"] = df_movies[\"revenue\"] / df_movies[\"budget\"] -1"
   ]
  },
  {
   "cell_type": "code",
   "execution_count": 35,
   "metadata": {},
   "outputs": [
    {
     "data": {
      "text/plain": [
       "array(['id', 'title', 'popularity', 'vote_average', 'vote_count',\n",
       "       'runtime', 'release_date', 'genres', 'keywords', 'director',\n",
       "       'producer', 'screenplay', 'writer', 'budget', 'profit_ratio'],\n",
       "      dtype=object)"
      ]
     },
     "execution_count": 35,
     "metadata": {},
     "output_type": "execute_result"
    }
   ],
   "source": [
    "df.columns.values"
   ]
  },
  {
   "cell_type": "code",
   "execution_count": 67,
   "metadata": {},
   "outputs": [
    {
     "data": {
      "image/png": "[encoded data removed]",
      "text/plain": [
       "<Figure size 432x288 with 1 Axes>"
      ]
     },
     "metadata": {
      "needs_background": "light"
     },
     "output_type": "display_data"
    }
   ],
   "source": [
    "plt.scatter( df[\"profit_ratio\"], df[\"vote_average\"],  alpha=0.2, s=20)\n",
    "plt.xlabel(\"Proporción de Ganancias\")\n",
    "plt.ylabel(\"Puntuación Usuarios\")\n",
    "plt.xlim(0.001,1000)\n",
    "plt.xscale(\"log\")"
   ]
  },
  {
   "cell_type": "code",
   "execution_count": 40,
   "metadata": {},
   "outputs": [
    {
     "data": {
      "text/plain": [
       "(1, 1000000000)"
      ]
     },
     "execution_count": 40,
     "metadata": {},
     "output_type": "execute_result"
    },
    {
     "data": {
      "image/png": "[encoded data removed]",
      "text/plain": [
       "<Figure size 432x288 with 1 Axes>"
      ]
     },
     "metadata": {
      "needs_background": "light"
     },
     "output_type": "display_data"
    }
   ],
   "source": [
    "plt.scatter( df[\"budget\"], df[\"vote_average\"],  alpha=0.4, s=20)\n",
    "plt.xlabel(\"Presupuesto (USD)\")\n",
    "plt.ylabel(\"Puntuación Usuarios\")\n",
    "plt.xscale(\"log\")\n",
    "plt.xlim(10**0, 10**9)"
   ]
  },
  {
   "cell_type": "code",
   "execution_count": 57,
   "metadata": {},
   "outputs": [
    {
     "data": {
      "text/plain": [
       "[<matplotlib.lines.Line2D at 0x7f16e3855210>]"
      ]
     },
     "execution_count": 57,
     "metadata": {},
     "output_type": "execute_result"
    },
    {
     "data": {
      "image/png": "[encoded data removed]",
      "text/plain": [
       "<Figure size 432x288 with 1 Axes>"
      ]
     },
     "metadata": {
      "needs_background": "light"
     },
     "output_type": "display_data"
    }
   ],
   "source": [
    "plt.scatter(df[\"budget\"], (1+df[\"profit_ratio\"])*df[\"budget\"], alpha=0.4, s=20)\n",
    "\n",
    "plt.xscale(\"log\")\n",
    "plt.yscale(\"log\")\n",
    "plt.xlim(10**0,10**10)\n",
    "plt.ylim(10**0,10**10)\n",
    "\n",
    "x=np.logspace(2,10)\n",
    "\n",
    "plt.plot(x,x, c=\"k\")"
   ]
  },
  {
   "cell_type": "code",
   "execution_count": 48,
   "metadata": {},
   "outputs": [
    {
     "data": {
      "text/plain": [
       "971"
      ]
     },
     "execution_count": 48,
     "metadata": {},
     "output_type": "execute_result"
    }
   ],
   "source": [
    "sum((df.budget ==0))"
   ]
  },
  {
   "cell_type": "code",
   "execution_count": 49,
   "metadata": {},
   "outputs": [
    {
     "data": {
      "text/plain": [
       "250"
      ]
     },
     "execution_count": 49,
     "metadata": {},
     "output_type": "execute_result"
    }
   ],
   "source": [
    "sum(df.profit_ratio >= 20)"
   ]
  },
  {
   "cell_type": "code",
   "execution_count": 55,
   "metadata": {},
   "outputs": [
    {
     "name": "stdout",
     "output_type": "stream",
     "text": [
      "321     5.6\n",
      "359     5.8\n",
      "409     7.3\n",
      "475     6.7\n",
      "489     7.3\n",
      "       ... \n",
      "4670    6.6\n",
      "4671    6.8\n",
      "4672    7.6\n",
      "4677    6.3\n",
      "4696    7.4\n",
      "Name: vote_average, Length: 250, dtype: float64\n"
     ]
    }
   ],
   "source": [
    "print(df.vote_average[df.profit_ratio >=20])"
   ]
  },
  {
   "cell_type": "code",
   "execution_count": 68,
   "metadata": {},
   "outputs": [],
   "source": [
    "import pickle"
   ]
  },
  {
   "cell_type": "code",
   "execution_count": 70,
   "metadata": {},
   "outputs": [],
   "source": [
    "filename = \"tmdb4700.pkl\"\n",
    "outfile = open(filename, \"wb\")"
   ]
  },
  {
   "cell_type": "code",
   "execution_count": 71,
   "metadata": {},
   "outputs": [],
   "source": [
    "pickle.dump(df, outfile)"
   ]
  },
  {
   "cell_type": "code",
   "execution_count": 72,
   "metadata": {},
   "outputs": [],
   "source": [
    "outfile.close()"
   ]
  }
 ],
 "metadata": {
  "kernelspec": {
   "display_name": "Python 3",
   "language": "python",
   "name": "python3"
  },
  "language_info": {
   "codemirror_mode": {
    "name": "ipython",
    "version": 3
   },
   "file_extension": ".py",
   "mimetype": "text/x-python",
   "name": "python",
   "nbconvert_exporter": "python",
   "pygments_lexer": "ipython3",
   "version": "3.7.4"
  }
 },
 "nbformat": 4,
 "nbformat_minor": 2
}
