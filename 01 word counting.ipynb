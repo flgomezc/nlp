{
 "cells": [
  {
   "cell_type": "code",
   "execution_count": 1,
   "metadata": {},
   "outputs": [],
   "source": [
    "import numpy as np\n",
    "import matplotlib.pyplot as plt\n",
    "import pandas as pd\n",
    "import json\n",
    "\n",
    "from sklearn.feature_extraction.text import CountVectorizer\n",
    "\n",
    "cv = CountVectorizer(stop_words=\"english\")\n",
    "\n",
    "import pickle\n",
    "\n",
    "import re\n",
    "import string\n",
    "import urllib.request\n",
    "from nltk.corpus import stopwords"
   ]
  },
  {
   "cell_type": "code",
   "execution_count": 2,
   "metadata": {},
   "outputs": [],
   "source": [
    "df = pickle.load( open(\"tmdb4700.pkl\", \"rb\"))"
   ]
  },
  {
   "cell_type": "code",
   "execution_count": 3,
   "metadata": {},
   "outputs": [
    {
     "data": {
      "text/plain": [
       "id                                                          19995\n",
       "title                                                      Avatar\n",
       "popularity                                                150.438\n",
       "vote_average                                                  7.2\n",
       "vote_count                                                  11800\n",
       "runtime                                                       162\n",
       "release_date                                           2009-12-10\n",
       "genres              [Action, Adventure, Fantasy, Science Fiction]\n",
       "keywords        [culture clash, future, space war, space colon...\n",
       "director                                          [James Cameron]\n",
       "producer                              [James Cameron, Jon Landau]\n",
       "screenplay                                        [James Cameron]\n",
       "writer                                            [James Cameron]\n",
       "budget                                                  237000000\n",
       "profit_ratio                                              10.7636\n",
       "Name: 0, dtype: object"
      ]
     },
     "execution_count": 3,
     "metadata": {},
     "output_type": "execute_result"
    }
   ],
   "source": [
    "df.iloc[0]"
   ]
  },
  {
   "cell_type": "code",
   "execution_count": 4,
   "metadata": {},
   "outputs": [
    {
     "data": {
      "text/plain": [
       "Text(0.5, 1.0, 'Distribución de Puntuación')"
      ]
     },
     "execution_count": 4,
     "metadata": {},
     "output_type": "execute_result"
    },
    {
     "data": {
      "image/png": "[encoded data removed]",
      "text/plain": [
       "<Figure size 432x288 with 1 Axes>"
      ]
     },
     "metadata": {
      "needs_background": "light"
     },
     "output_type": "display_data"
    }
   ],
   "source": [
    "plt.hist(df.vote_average, bins=35, density=True)\n",
    "plt.title(\"Distribución de Puntuación\")"
   ]
  },
  {
   "cell_type": "code",
   "execution_count": 5,
   "metadata": {},
   "outputs": [],
   "source": [
    "genres_list     = []\n",
    "keyword_list    = []\n",
    "producer_list   = []\n",
    "director_list   = []\n",
    "writer_list     = []\n",
    "screenplay_list = []\n",
    "\n",
    "\n",
    "def append_to_list(in_list, target_list):\n",
    "    target_list.extend(in_list)\n",
    "\n",
    "get_genres_list     = lambda x: append_to_list(x, genres_list)\n",
    "get_keyword_list    = lambda x: append_to_list(x, keyword_list)\n",
    "get_producer_list   = lambda x: append_to_list(x, producer_list)\n",
    "get_director_list   = lambda x: append_to_list(x, director_list)\n",
    "get_writer_list     = lambda x: append_to_list(x, writer_list)\n",
    "get_screenplay_list = lambda x: append_to_list(x, screenplay_list)\n",
    "\n",
    "df.genres.apply(get_genres_list)\n",
    "genres_set = set(genres_list)\n",
    "\n",
    "df.keywords.apply(get_keyword_list)\n",
    "keyword_set = set(keyword_list)\n",
    "\n",
    "df.producer.apply(get_producer_list)\n",
    "producer_set = set(keyword_list)\n",
    "\n",
    "df.director.apply(get_director_list)\n",
    "director_set = set(director_list)\n",
    "\n",
    "df.writer.apply(get_writer_list)\n",
    "writer_set = set(writer_list)\n",
    "\n",
    "df.screenplay.apply(get_screenplay_list)\n",
    "screenplay_set = set(screenplay_list)"
   ]
  },
  {
   "cell_type": "code",
   "execution_count": 6,
   "metadata": {},
   "outputs": [
    {
     "data": {
      "text/plain": [
       "2499"
      ]
     },
     "execution_count": 6,
     "metadata": {},
     "output_type": "execute_result"
    }
   ],
   "source": [
    "len(director_set)"
   ]
  },
  {
   "cell_type": "code",
   "execution_count": 7,
   "metadata": {},
   "outputs": [
    {
     "data": {
      "text/plain": [
       "9750"
      ]
     },
     "execution_count": 7,
     "metadata": {},
     "output_type": "execute_result"
    }
   ],
   "source": [
    "len(keyword_set)"
   ]
  },
  {
   "cell_type": "code",
   "execution_count": 8,
   "metadata": {
    "scrolled": true
   },
   "outputs": [
    {
     "data": {
      "text/plain": [
       "2950"
      ]
     },
     "execution_count": 8,
     "metadata": {},
     "output_type": "execute_result"
    }
   ],
   "source": [
    "len(screenplay_set)"
   ]
  },
  {
   "cell_type": "code",
   "execution_count": 9,
   "metadata": {},
   "outputs": [
    {
     "data": {
      "text/plain": [
       "0       [Action, Adventure, Fantasy, Science Fiction]\n",
       "1                        [Adventure, Fantasy, Action]\n",
       "2                          [Action, Adventure, Crime]\n",
       "3                    [Action, Crime, Drama, Thriller]\n",
       "4                [Action, Adventure, Science Fiction]\n",
       "                            ...                      \n",
       "4695                          [Drama, Comedy, Family]\n",
       "4696                                 [Drama, Romance]\n",
       "4697                                [Comedy, Romance]\n",
       "4698                                    [Documentary]\n",
       "4699                                          [Drama]\n",
       "Name: genres, Length: 4700, dtype: object"
      ]
     },
     "execution_count": 9,
     "metadata": {},
     "output_type": "execute_result"
    }
   ],
   "source": [
    "df.genres"
   ]
  },
  {
   "cell_type": "code",
   "execution_count": 10,
   "metadata": {},
   "outputs": [
    {
     "data": {
      "text/plain": [
       "0      NaN\n",
       "1      NaN\n",
       "2      NaN\n",
       "3      NaN\n",
       "4      NaN\n",
       "        ..\n",
       "4695   NaN\n",
       "4696   NaN\n",
       "4697   NaN\n",
       "4698   NaN\n",
       "4699   NaN\n",
       "Name: genres, Length: 4700, dtype: float64"
      ]
     },
     "execution_count": 10,
     "metadata": {},
     "output_type": "execute_result"
    }
   ],
   "source": [
    "df.genres.str.replace(\" \", \"_\")"
   ]
  },
  {
   "cell_type": "code",
   "execution_count": 11,
   "metadata": {},
   "outputs": [],
   "source": [
    "def replace_space_by_dash(x):\n",
    "    aux = []\n",
    "    for element in x:\n",
    "        #print(element)\n",
    "        element_2 = re.sub(r\"\\s\", \"_\", element)\n",
    "        aux.append(element_2)\n",
    "    return ' '.join(aux)\n",
    "\n",
    "do_the_replacement = lambda x: replace_space_by_dash(x)"
   ]
  },
  {
   "cell_type": "code",
   "execution_count": 12,
   "metadata": {},
   "outputs": [
    {
     "data": {
      "text/plain": [
       "'Action Adventure Fantasy Science_Fiction'"
      ]
     },
     "execution_count": 12,
     "metadata": {},
     "output_type": "execute_result"
    }
   ],
   "source": [
    "replace_space_by_dash( df.genres.iloc[0])"
   ]
  },
  {
   "cell_type": "code",
   "execution_count": 13,
   "metadata": {},
   "outputs": [],
   "source": [
    "def join_list_into_str(x):\n",
    "    return ' '.join(x)\n",
    "\n",
    "genres_list = lambda x: join_list_into_str(x)"
   ]
  },
  {
   "cell_type": "code",
   "execution_count": 14,
   "metadata": {},
   "outputs": [],
   "source": [
    "df[\"genres_str\"] = df[\"genres\"].apply(do_the_replacement)"
   ]
  },
  {
   "cell_type": "code",
   "execution_count": 15,
   "metadata": {},
   "outputs": [
    {
     "data": {
      "text/html": [
       "<div>\n",
       "<style scoped>\n",
       "    .dataframe tbody tr th:only-of-type {\n",
       "        vertical-align: middle;\n",
       "    }\n",
       "\n",
       "    .dataframe tbody tr th {\n",
       "        vertical-align: top;\n",
       "    }\n",
       "\n",
       "    .dataframe thead th {\n",
       "        text-align: right;\n",
       "    }\n",
       "</style>\n",
       "<table border=\"1\" class=\"dataframe\">\n",
       "  <thead>\n",
       "    <tr style=\"text-align: right;\">\n",
       "      <th></th>\n",
       "      <th>vote_average</th>\n",
       "      <th>genres_str</th>\n",
       "    </tr>\n",
       "  </thead>\n",
       "  <tbody>\n",
       "    <tr>\n",
       "      <td>0</td>\n",
       "      <td>7.2</td>\n",
       "      <td>Action Adventure Fantasy Science_Fiction</td>\n",
       "    </tr>\n",
       "    <tr>\n",
       "      <td>1</td>\n",
       "      <td>6.9</td>\n",
       "      <td>Adventure Fantasy Action</td>\n",
       "    </tr>\n",
       "    <tr>\n",
       "      <td>2</td>\n",
       "      <td>6.3</td>\n",
       "      <td>Action Adventure Crime</td>\n",
       "    </tr>\n",
       "    <tr>\n",
       "      <td>3</td>\n",
       "      <td>7.6</td>\n",
       "      <td>Action Crime Drama Thriller</td>\n",
       "    </tr>\n",
       "    <tr>\n",
       "      <td>4</td>\n",
       "      <td>6.1</td>\n",
       "      <td>Action Adventure Science_Fiction</td>\n",
       "    </tr>\n",
       "    <tr>\n",
       "      <td>...</td>\n",
       "      <td>...</td>\n",
       "      <td>...</td>\n",
       "    </tr>\n",
       "    <tr>\n",
       "      <td>4695</td>\n",
       "      <td>7.8</td>\n",
       "      <td>Drama Comedy Family</td>\n",
       "    </tr>\n",
       "    <tr>\n",
       "      <td>4696</td>\n",
       "      <td>7.4</td>\n",
       "      <td>Drama Romance</td>\n",
       "    </tr>\n",
       "    <tr>\n",
       "      <td>4697</td>\n",
       "      <td>6.1</td>\n",
       "      <td>Comedy Romance</td>\n",
       "    </tr>\n",
       "    <tr>\n",
       "      <td>4698</td>\n",
       "      <td>0.0</td>\n",
       "      <td>Documentary</td>\n",
       "    </tr>\n",
       "    <tr>\n",
       "      <td>4699</td>\n",
       "      <td>0.0</td>\n",
       "      <td>Drama</td>\n",
       "    </tr>\n",
       "  </tbody>\n",
       "</table>\n",
       "<p>4700 rows × 2 columns</p>\n",
       "</div>"
      ],
      "text/plain": [
       "      vote_average                                genres_str\n",
       "0              7.2  Action Adventure Fantasy Science_Fiction\n",
       "1              6.9                  Adventure Fantasy Action\n",
       "2              6.3                    Action Adventure Crime\n",
       "3              7.6               Action Crime Drama Thriller\n",
       "4              6.1          Action Adventure Science_Fiction\n",
       "...            ...                                       ...\n",
       "4695           7.8                       Drama Comedy Family\n",
       "4696           7.4                             Drama Romance\n",
       "4697           6.1                            Comedy Romance\n",
       "4698           0.0                               Documentary\n",
       "4699           0.0                                     Drama\n",
       "\n",
       "[4700 rows x 2 columns]"
      ]
     },
     "execution_count": 15,
     "metadata": {},
     "output_type": "execute_result"
    }
   ],
   "source": [
    "df[[\"vote_average\",\"genres_str\"]]"
   ]
  },
  {
   "cell_type": "code",
   "execution_count": null,
   "metadata": {},
   "outputs": [],
   "source": []
  },
  {
   "cell_type": "code",
   "execution_count": null,
   "metadata": {},
   "outputs": [],
   "source": []
  },
  {
   "cell_type": "code",
   "execution_count": 16,
   "metadata": {},
   "outputs": [],
   "source": [
    "data_cv = cv.fit_transform(df[\"genres_str\"])"
   ]
  },
  {
   "cell_type": "code",
   "execution_count": 17,
   "metadata": {},
   "outputs": [
    {
     "data": {
      "text/plain": [
       "<4700x20 sparse matrix of type '<class 'numpy.int64'>'\n",
       "\twith 11961 stored elements in Compressed Sparse Row format>"
      ]
     },
     "execution_count": 17,
     "metadata": {},
     "output_type": "execute_result"
    }
   ],
   "source": [
    "data_cv"
   ]
  },
  {
   "cell_type": "code",
   "execution_count": 18,
   "metadata": {
    "scrolled": false
   },
   "outputs": [
    {
     "data": {
      "text/html": [
       "<div>\n",
       "<style scoped>\n",
       "    .dataframe tbody tr th:only-of-type {\n",
       "        vertical-align: middle;\n",
       "    }\n",
       "\n",
       "    .dataframe tbody tr th {\n",
       "        vertical-align: top;\n",
       "    }\n",
       "\n",
       "    .dataframe thead th {\n",
       "        text-align: right;\n",
       "    }\n",
       "</style>\n",
       "<table border=\"1\" class=\"dataframe\">\n",
       "  <thead>\n",
       "    <tr style=\"text-align: right;\">\n",
       "      <th></th>\n",
       "      <th>action</th>\n",
       "      <th>adventure</th>\n",
       "      <th>animation</th>\n",
       "      <th>comedy</th>\n",
       "      <th>crime</th>\n",
       "      <th>documentary</th>\n",
       "      <th>drama</th>\n",
       "      <th>family</th>\n",
       "      <th>fantasy</th>\n",
       "      <th>foreign</th>\n",
       "      <th>history</th>\n",
       "      <th>horror</th>\n",
       "      <th>music</th>\n",
       "      <th>mystery</th>\n",
       "      <th>romance</th>\n",
       "      <th>science_fiction</th>\n",
       "      <th>thriller</th>\n",
       "      <th>tv_movie</th>\n",
       "      <th>war</th>\n",
       "      <th>western</th>\n",
       "    </tr>\n",
       "  </thead>\n",
       "  <tbody>\n",
       "    <tr>\n",
       "      <td>0</td>\n",
       "      <td>1</td>\n",
       "      <td>1</td>\n",
       "      <td>0</td>\n",
       "      <td>0</td>\n",
       "      <td>0</td>\n",
       "      <td>0</td>\n",
       "      <td>0</td>\n",
       "      <td>0</td>\n",
       "      <td>1</td>\n",
       "      <td>0</td>\n",
       "      <td>0</td>\n",
       "      <td>0</td>\n",
       "      <td>0</td>\n",
       "      <td>0</td>\n",
       "      <td>0</td>\n",
       "      <td>1</td>\n",
       "      <td>0</td>\n",
       "      <td>0</td>\n",
       "      <td>0</td>\n",
       "      <td>0</td>\n",
       "    </tr>\n",
       "    <tr>\n",
       "      <td>1</td>\n",
       "      <td>1</td>\n",
       "      <td>1</td>\n",
       "      <td>0</td>\n",
       "      <td>0</td>\n",
       "      <td>0</td>\n",
       "      <td>0</td>\n",
       "      <td>0</td>\n",
       "      <td>0</td>\n",
       "      <td>1</td>\n",
       "      <td>0</td>\n",
       "      <td>0</td>\n",
       "      <td>0</td>\n",
       "      <td>0</td>\n",
       "      <td>0</td>\n",
       "      <td>0</td>\n",
       "      <td>0</td>\n",
       "      <td>0</td>\n",
       "      <td>0</td>\n",
       "      <td>0</td>\n",
       "      <td>0</td>\n",
       "    </tr>\n",
       "    <tr>\n",
       "      <td>2</td>\n",
       "      <td>1</td>\n",
       "      <td>1</td>\n",
       "      <td>0</td>\n",
       "      <td>0</td>\n",
       "      <td>1</td>\n",
       "      <td>0</td>\n",
       "      <td>0</td>\n",
       "      <td>0</td>\n",
       "      <td>0</td>\n",
       "      <td>0</td>\n",
       "      <td>0</td>\n",
       "      <td>0</td>\n",
       "      <td>0</td>\n",
       "      <td>0</td>\n",
       "      <td>0</td>\n",
       "      <td>0</td>\n",
       "      <td>0</td>\n",
       "      <td>0</td>\n",
       "      <td>0</td>\n",
       "      <td>0</td>\n",
       "    </tr>\n",
       "    <tr>\n",
       "      <td>3</td>\n",
       "      <td>1</td>\n",
       "      <td>0</td>\n",
       "      <td>0</td>\n",
       "      <td>0</td>\n",
       "      <td>1</td>\n",
       "      <td>0</td>\n",
       "      <td>1</td>\n",
       "      <td>0</td>\n",
       "      <td>0</td>\n",
       "      <td>0</td>\n",
       "      <td>0</td>\n",
       "      <td>0</td>\n",
       "      <td>0</td>\n",
       "      <td>0</td>\n",
       "      <td>0</td>\n",
       "      <td>0</td>\n",
       "      <td>1</td>\n",
       "      <td>0</td>\n",
       "      <td>0</td>\n",
       "      <td>0</td>\n",
       "    </tr>\n",
       "    <tr>\n",
       "      <td>4</td>\n",
       "      <td>1</td>\n",
       "      <td>1</td>\n",
       "      <td>0</td>\n",
       "      <td>0</td>\n",
       "      <td>0</td>\n",
       "      <td>0</td>\n",
       "      <td>0</td>\n",
       "      <td>0</td>\n",
       "      <td>0</td>\n",
       "      <td>0</td>\n",
       "      <td>0</td>\n",
       "      <td>0</td>\n",
       "      <td>0</td>\n",
       "      <td>0</td>\n",
       "      <td>0</td>\n",
       "      <td>1</td>\n",
       "      <td>0</td>\n",
       "      <td>0</td>\n",
       "      <td>0</td>\n",
       "      <td>0</td>\n",
       "    </tr>\n",
       "    <tr>\n",
       "      <td>...</td>\n",
       "      <td>...</td>\n",
       "      <td>...</td>\n",
       "      <td>...</td>\n",
       "      <td>...</td>\n",
       "      <td>...</td>\n",
       "      <td>...</td>\n",
       "      <td>...</td>\n",
       "      <td>...</td>\n",
       "      <td>...</td>\n",
       "      <td>...</td>\n",
       "      <td>...</td>\n",
       "      <td>...</td>\n",
       "      <td>...</td>\n",
       "      <td>...</td>\n",
       "      <td>...</td>\n",
       "      <td>...</td>\n",
       "      <td>...</td>\n",
       "      <td>...</td>\n",
       "      <td>...</td>\n",
       "      <td>...</td>\n",
       "    </tr>\n",
       "    <tr>\n",
       "      <td>4695</td>\n",
       "      <td>0</td>\n",
       "      <td>0</td>\n",
       "      <td>0</td>\n",
       "      <td>1</td>\n",
       "      <td>0</td>\n",
       "      <td>0</td>\n",
       "      <td>1</td>\n",
       "      <td>1</td>\n",
       "      <td>0</td>\n",
       "      <td>0</td>\n",
       "      <td>0</td>\n",
       "      <td>0</td>\n",
       "      <td>0</td>\n",
       "      <td>0</td>\n",
       "      <td>0</td>\n",
       "      <td>0</td>\n",
       "      <td>0</td>\n",
       "      <td>0</td>\n",
       "      <td>0</td>\n",
       "      <td>0</td>\n",
       "    </tr>\n",
       "    <tr>\n",
       "      <td>4696</td>\n",
       "      <td>0</td>\n",
       "      <td>0</td>\n",
       "      <td>0</td>\n",
       "      <td>0</td>\n",
       "      <td>0</td>\n",
       "      <td>0</td>\n",
       "      <td>1</td>\n",
       "      <td>0</td>\n",
       "      <td>0</td>\n",
       "      <td>0</td>\n",
       "      <td>0</td>\n",
       "      <td>0</td>\n",
       "      <td>0</td>\n",
       "      <td>0</td>\n",
       "      <td>1</td>\n",
       "      <td>0</td>\n",
       "      <td>0</td>\n",
       "      <td>0</td>\n",
       "      <td>0</td>\n",
       "      <td>0</td>\n",
       "    </tr>\n",
       "    <tr>\n",
       "      <td>4697</td>\n",
       "      <td>0</td>\n",
       "      <td>0</td>\n",
       "      <td>0</td>\n",
       "      <td>1</td>\n",
       "      <td>0</td>\n",
       "      <td>0</td>\n",
       "      <td>0</td>\n",
       "      <td>0</td>\n",
       "      <td>0</td>\n",
       "      <td>0</td>\n",
       "      <td>0</td>\n",
       "      <td>0</td>\n",
       "      <td>0</td>\n",
       "      <td>0</td>\n",
       "      <td>1</td>\n",
       "      <td>0</td>\n",
       "      <td>0</td>\n",
       "      <td>0</td>\n",
       "      <td>0</td>\n",
       "      <td>0</td>\n",
       "    </tr>\n",
       "    <tr>\n",
       "      <td>4698</td>\n",
       "      <td>0</td>\n",
       "      <td>0</td>\n",
       "      <td>0</td>\n",
       "      <td>0</td>\n",
       "      <td>0</td>\n",
       "      <td>1</td>\n",
       "      <td>0</td>\n",
       "      <td>0</td>\n",
       "      <td>0</td>\n",
       "      <td>0</td>\n",
       "      <td>0</td>\n",
       "      <td>0</td>\n",
       "      <td>0</td>\n",
       "      <td>0</td>\n",
       "      <td>0</td>\n",
       "      <td>0</td>\n",
       "      <td>0</td>\n",
       "      <td>0</td>\n",
       "      <td>0</td>\n",
       "      <td>0</td>\n",
       "    </tr>\n",
       "    <tr>\n",
       "      <td>4699</td>\n",
       "      <td>0</td>\n",
       "      <td>0</td>\n",
       "      <td>0</td>\n",
       "      <td>0</td>\n",
       "      <td>0</td>\n",
       "      <td>0</td>\n",
       "      <td>1</td>\n",
       "      <td>0</td>\n",
       "      <td>0</td>\n",
       "      <td>0</td>\n",
       "      <td>0</td>\n",
       "      <td>0</td>\n",
       "      <td>0</td>\n",
       "      <td>0</td>\n",
       "      <td>0</td>\n",
       "      <td>0</td>\n",
       "      <td>0</td>\n",
       "      <td>0</td>\n",
       "      <td>0</td>\n",
       "      <td>0</td>\n",
       "    </tr>\n",
       "  </tbody>\n",
       "</table>\n",
       "<p>4700 rows × 20 columns</p>\n",
       "</div>"
      ],
      "text/plain": [
       "      action  adventure  animation  comedy  crime  documentary  drama  family  \\\n",
       "0          1          1          0       0      0            0      0       0   \n",
       "1          1          1          0       0      0            0      0       0   \n",
       "2          1          1          0       0      1            0      0       0   \n",
       "3          1          0          0       0      1            0      1       0   \n",
       "4          1          1          0       0      0            0      0       0   \n",
       "...      ...        ...        ...     ...    ...          ...    ...     ...   \n",
       "4695       0          0          0       1      0            0      1       1   \n",
       "4696       0          0          0       0      0            0      1       0   \n",
       "4697       0          0          0       1      0            0      0       0   \n",
       "4698       0          0          0       0      0            1      0       0   \n",
       "4699       0          0          0       0      0            0      1       0   \n",
       "\n",
       "      fantasy  foreign  history  horror  music  mystery  romance  \\\n",
       "0           1        0        0       0      0        0        0   \n",
       "1           1        0        0       0      0        0        0   \n",
       "2           0        0        0       0      0        0        0   \n",
       "3           0        0        0       0      0        0        0   \n",
       "4           0        0        0       0      0        0        0   \n",
       "...       ...      ...      ...     ...    ...      ...      ...   \n",
       "4695        0        0        0       0      0        0        0   \n",
       "4696        0        0        0       0      0        0        1   \n",
       "4697        0        0        0       0      0        0        1   \n",
       "4698        0        0        0       0      0        0        0   \n",
       "4699        0        0        0       0      0        0        0   \n",
       "\n",
       "      science_fiction  thriller  tv_movie  war  western  \n",
       "0                   1         0         0    0        0  \n",
       "1                   0         0         0    0        0  \n",
       "2                   0         0         0    0        0  \n",
       "3                   0         1         0    0        0  \n",
       "4                   1         0         0    0        0  \n",
       "...               ...       ...       ...  ...      ...  \n",
       "4695                0         0         0    0        0  \n",
       "4696                0         0         0    0        0  \n",
       "4697                0         0         0    0        0  \n",
       "4698                0         0         0    0        0  \n",
       "4699                0         0         0    0        0  \n",
       "\n",
       "[4700 rows x 20 columns]"
      ]
     },
     "execution_count": 18,
     "metadata": {},
     "output_type": "execute_result"
    }
   ],
   "source": [
    "data_dtm = pd.DataFrame(data_cv.toarray(), columns=cv.get_feature_names())\n",
    "data_dtm.index = df.index\n",
    "data_dtm"
   ]
  },
  {
   "cell_type": "code",
   "execution_count": 19,
   "metadata": {},
   "outputs": [],
   "source": [
    "cols = data_dtm.columns.values"
   ]
  },
  {
   "cell_type": "code",
   "execution_count": 20,
   "metadata": {},
   "outputs": [
    {
     "name": "stdout",
     "output_type": "stream",
     "text": [
      "0       1\n",
      "1       1\n",
      "2       1\n",
      "3       1\n",
      "4       1\n",
      "       ..\n",
      "4695    0\n",
      "4696    0\n",
      "4697    0\n",
      "4698    0\n",
      "4699    0\n",
      "Name: action, Length: 4700, dtype: int64\n",
      "0       1\n",
      "1       1\n",
      "2       1\n",
      "3       0\n",
      "4       1\n",
      "       ..\n",
      "4695    0\n",
      "4696    0\n",
      "4697    0\n",
      "4698    0\n",
      "4699    0\n",
      "Name: adventure, Length: 4700, dtype: int64\n",
      "0       0\n",
      "1       0\n",
      "2       0\n",
      "3       0\n",
      "4       0\n",
      "       ..\n",
      "4695    0\n",
      "4696    0\n",
      "4697    0\n",
      "4698    0\n",
      "4699    0\n",
      "Name: animation, Length: 4700, dtype: int64\n",
      "0       0\n",
      "1       0\n",
      "2       0\n",
      "3       0\n",
      "4       0\n",
      "       ..\n",
      "4695    1\n",
      "4696    0\n",
      "4697    1\n",
      "4698    0\n",
      "4699    0\n",
      "Name: comedy, Length: 4700, dtype: int64\n",
      "0       0\n",
      "1       0\n",
      "2       1\n",
      "3       1\n",
      "4       0\n",
      "       ..\n",
      "4695    0\n",
      "4696    0\n",
      "4697    0\n",
      "4698    0\n",
      "4699    0\n",
      "Name: crime, Length: 4700, dtype: int64\n",
      "0       0\n",
      "1       0\n",
      "2       0\n",
      "3       0\n",
      "4       0\n",
      "       ..\n",
      "4695    0\n",
      "4696    0\n",
      "4697    0\n",
      "4698    1\n",
      "4699    0\n",
      "Name: documentary, Length: 4700, dtype: int64\n",
      "0       0\n",
      "1       0\n",
      "2       0\n",
      "3       1\n",
      "4       0\n",
      "       ..\n",
      "4695    1\n",
      "4696    1\n",
      "4697    0\n",
      "4698    0\n",
      "4699    1\n",
      "Name: drama, Length: 4700, dtype: int64\n",
      "0       0\n",
      "1       0\n",
      "2       0\n",
      "3       0\n",
      "4       0\n",
      "       ..\n",
      "4695    1\n",
      "4696    0\n",
      "4697    0\n",
      "4698    0\n",
      "4699    0\n",
      "Name: family, Length: 4700, dtype: int64\n",
      "0       1\n",
      "1       1\n",
      "2       0\n",
      "3       0\n",
      "4       0\n",
      "       ..\n",
      "4695    0\n",
      "4696    0\n",
      "4697    0\n",
      "4698    0\n",
      "4699    0\n",
      "Name: fantasy, Length: 4700, dtype: int64\n",
      "0       0\n",
      "1       0\n",
      "2       0\n",
      "3       0\n",
      "4       0\n",
      "       ..\n",
      "4695    0\n",
      "4696    0\n",
      "4697    0\n",
      "4698    0\n",
      "4699    0\n",
      "Name: foreign, Length: 4700, dtype: int64\n",
      "0       0\n",
      "1       0\n",
      "2       0\n",
      "3       0\n",
      "4       0\n",
      "       ..\n",
      "4695    0\n",
      "4696    0\n",
      "4697    0\n",
      "4698    0\n",
      "4699    0\n",
      "Name: history, Length: 4700, dtype: int64\n",
      "0       0\n",
      "1       0\n",
      "2       0\n",
      "3       0\n",
      "4       0\n",
      "       ..\n",
      "4695    0\n",
      "4696    0\n",
      "4697    0\n",
      "4698    0\n",
      "4699    0\n",
      "Name: horror, Length: 4700, dtype: int64\n",
      "0       0\n",
      "1       0\n",
      "2       0\n",
      "3       0\n",
      "4       0\n",
      "       ..\n",
      "4695    0\n",
      "4696    0\n",
      "4697    0\n",
      "4698    0\n",
      "4699    0\n",
      "Name: music, Length: 4700, dtype: int64\n",
      "0       0\n",
      "1       0\n",
      "2       0\n",
      "3       0\n",
      "4       0\n",
      "       ..\n",
      "4695    0\n",
      "4696    0\n",
      "4697    0\n",
      "4698    0\n",
      "4699    0\n",
      "Name: mystery, Length: 4700, dtype: int64\n",
      "0       0\n",
      "1       0\n",
      "2       0\n",
      "3       0\n",
      "4       0\n",
      "       ..\n",
      "4695    0\n",
      "4696    1\n",
      "4697    1\n",
      "4698    0\n",
      "4699    0\n",
      "Name: romance, Length: 4700, dtype: int64\n",
      "0       1\n",
      "1       0\n",
      "2       0\n",
      "3       0\n",
      "4       1\n",
      "       ..\n",
      "4695    0\n",
      "4696    0\n",
      "4697    0\n",
      "4698    0\n",
      "4699    0\n",
      "Name: science_fiction, Length: 4700, dtype: int64\n",
      "0       0\n",
      "1       0\n",
      "2       0\n",
      "3       1\n",
      "4       0\n",
      "       ..\n",
      "4695    0\n",
      "4696    0\n",
      "4697    0\n",
      "4698    0\n",
      "4699    0\n",
      "Name: thriller, Length: 4700, dtype: int64\n",
      "0       0\n",
      "1       0\n",
      "2       0\n",
      "3       0\n",
      "4       0\n",
      "       ..\n",
      "4695    0\n",
      "4696    0\n",
      "4697    0\n",
      "4698    0\n",
      "4699    0\n",
      "Name: tv_movie, Length: 4700, dtype: int64\n",
      "0       0\n",
      "1       0\n",
      "2       0\n",
      "3       0\n",
      "4       0\n",
      "       ..\n",
      "4695    0\n",
      "4696    0\n",
      "4697    0\n",
      "4698    0\n",
      "4699    0\n",
      "Name: war, Length: 4700, dtype: int64\n",
      "0       0\n",
      "1       0\n",
      "2       0\n",
      "3       0\n",
      "4       0\n",
      "       ..\n",
      "4695    0\n",
      "4696    0\n",
      "4697    0\n",
      "4698    0\n",
      "4699    0\n",
      "Name: western, Length: 4700, dtype: int64\n"
     ]
    }
   ],
   "source": [
    "for i in cols:\n",
    "    print(data_dtm[i])"
   ]
  },
  {
   "cell_type": "code",
   "execution_count": 21,
   "metadata": {},
   "outputs": [
    {
     "name": "stdout",
     "output_type": "stream",
     "text": [
      "action 1146\n",
      "adventure 790\n",
      "animation 233\n",
      "comedy 1689\n",
      "crime 688\n",
      "documentary 96\n",
      "drama 2248\n",
      "family 509\n",
      "fantasy 422\n",
      "foreign 32\n",
      "history 196\n",
      "horror 502\n",
      "music 182\n",
      "mystery 343\n",
      "romance 877\n",
      "science_fiction 524\n",
      "thriller 1253\n",
      "tv_movie 6\n",
      "war 144\n",
      "western 81\n"
     ]
    }
   ],
   "source": [
    "for i in cols:\n",
    "    print(i, sum(data_dtm[i]) )"
   ]
  },
  {
   "cell_type": "code",
   "execution_count": 22,
   "metadata": {},
   "outputs": [
    {
     "name": "stdout",
     "output_type": "stream",
     "text": [
      "action 6.002181500872599\n",
      "adventure 6.15696202531646\n",
      "animation 6.336480686695276\n",
      "comedy 5.948904677323857\n",
      "crime 6.279069767441862\n",
      "documentary 6.252083333333329\n",
      "drama 6.40275800711742\n",
      "family 6.039096267190573\n",
      "fantasy 6.091469194312798\n",
      "foreign 6.309375000000001\n",
      "history 6.716326530612238\n",
      "horror 5.655378486055775\n",
      "music 6.346703296703295\n",
      "mystery 6.176093294460644\n",
      "romance 6.211516533637415\n",
      "science_fiction 6.019656488549617\n",
      "thriller 6.026017557861137\n",
      "tv_movie 5.133333333333334\n",
      "war 6.7138888888888895\n",
      "western 6.254320987654322\n"
     ]
    }
   ],
   "source": [
    "for i in cols:\n",
    "    print(i, sum(data_dtm[i] * df.vote_average) / sum(data_dtm[i]) )"
   ]
  },
  {
   "cell_type": "code",
   "execution_count": 23,
   "metadata": {},
   "outputs": [
    {
     "data": {
      "image/png": "[encoded data removed]",
      "text/plain": [
       "<Figure size 432x288 with 1 Axes>"
      ]
     },
     "metadata": {
      "needs_background": "light"
     },
     "output_type": "display_data"
    }
   ],
   "source": [
    "for i in cols:\n",
    "    plt.hist(data_dtm[i] * df.vote_average, histtype=\"step\")"
   ]
  },
  {
   "cell_type": "code",
   "execution_count": 24,
   "metadata": {
    "scrolled": true
   },
   "outputs": [
    {
     "data": {
      "image/png": "[encoded data removed]",
      "text/plain": [
       "<Figure size 432x288 with 1 Axes>"
      ]
     },
     "metadata": {
      "needs_background": "light"
     },
     "output_type": "display_data"
    },
    {
     "data": {
      "image/png": "[encoded data removed]",
      "text/plain": [
       "<Figure size 432x288 with 1 Axes>"
      ]
     },
     "metadata": {
      "needs_background": "light"
     },
     "output_type": "display_data"
    },
    {
     "data": {
      "image/png": "[encoded data removed]",
      "text/plain": [
       "<Figure size 432x288 with 1 Axes>"
      ]
     },
     "metadata": {
      "needs_background": "light"
     },
     "output_type": "display_data"
    },
    {
     "data": {
      "image/png": "[encoded data removed]",
      "text/plain": [
       "<Figure size 432x288 with 1 Axes>"
      ]
     },
     "metadata": {
      "needs_background": "light"
     },
     "output_type": "display_data"
    },
    {
     "data": {
      "image/png": "[encoded data removed]",
      "text/plain": [
       "<Figure size 432x288 with 1 Axes>"
      ]
     },
     "metadata": {
      "needs_background": "light"
     },
     "output_type": "display_data"
    },
    {
     "data": {
      "image/png": "[encoded data removed]",
      "text/plain": [
       "<Figure size 432x288 with 1 Axes>"
      ]
     },
     "metadata": {
      "needs_background": "light"
     },
     "output_type": "display_data"
    },
    {
     "data": {
      "image/png": "[encoded data removed]",
      "text/plain": [
       "<Figure size 432x288 with 1 Axes>"
      ]
     },
     "metadata": {
      "needs_background": "light"
     },
     "output_type": "display_data"
    },
    {
     "data": {
      "image/png": "[encoded data removed]",
      "text/plain": [
       "<Figure size 432x288 with 1 Axes>"
      ]
     },
     "metadata": {
      "needs_background": "light"
     },
     "output_type": "display_data"
    },
    {
     "data": {
      "image/png": "[encoded data removed]",
      "text/plain": [
       "<Figure size 432x288 with 1 Axes>"
      ]
     },
     "metadata": {
      "needs_background": "light"
     },
     "output_type": "display_data"
    },
    {
     "data": {
      "image/png": "[encoded data removed]",
      "text/plain": [
       "<Figure size 432x288 with 1 Axes>"
      ]
     },
     "metadata": {
      "needs_background": "light"
     },
     "output_type": "display_data"
    },
    {
     "data": {
      "image/png": "[encoded data removed]",
      "text/plain": [
       "<Figure size 432x288 with 1 Axes>"
      ]
     },
     "metadata": {
      "needs_background": "light"
     },
     "output_type": "display_data"
    },
    {
     "data": {
      "image/png": "[encoded data removed]",
      "text/plain": [
       "<Figure size 432x288 with 1 Axes>"
      ]
     },
     "metadata": {
      "needs_background": "light"
     },
     "output_type": "display_data"
    },
    {
     "data": {
      "image/png": "[encoded data removed]",
      "text/plain": [
       "<Figure size 432x288 with 1 Axes>"
      ]
     },
     "metadata": {
      "needs_background": "light"
     },
     "output_type": "display_data"
    },
    {
     "data": {
      "image/png": "[encoded data removed]",
      "text/plain": [
       "<Figure size 432x288 with 1 Axes>"
      ]
     },
     "metadata": {
      "needs_background": "light"
     },
     "output_type": "display_data"
    },
    {
     "data": {
      "image/png": "[encoded data removed]",
      "text/plain": [
       "<Figure size 432x288 with 1 Axes>"
      ]
     },
     "metadata": {
      "needs_background": "light"
     },
     "output_type": "display_data"
    },
    {
     "data": {
      "image/png": "[encoded data removed]",
      "text/plain": [
       "<Figure size 432x288 with 1 Axes>"
      ]
     },
     "metadata": {
      "needs_background": "light"
     },
     "output_type": "display_data"
    },
    {
     "data": {
      "image/png": "[encoded data removed]",
      "text/plain": [
       "<Figure size 432x288 with 1 Axes>"
      ]
     },
     "metadata": {
      "needs_background": "light"
     },
     "output_type": "display_data"
    },
    {
     "data": {
      "image/png": "[encoded data removed]",
      "text/plain": [
       "<Figure size 432x288 with 1 Axes>"
      ]
     },
     "metadata": {
      "needs_background": "light"
     },
     "output_type": "display_data"
    },
    {
     "data": {
      "image/png": "[encoded data removed]",
      "text/plain": [
       "<Figure size 432x288 with 1 Axes>"
      ]
     },
     "metadata": {
      "needs_background": "light"
     },
     "output_type": "display_data"
    },
    {
     "data": {
      "image/png": "[encoded data removed]",
      "text/plain": [
       "<Figure size 432x288 with 1 Axes>"
      ]
     },
     "metadata": {
      "needs_background": "light"
     },
     "output_type": "display_data"
    }
   ],
   "source": [
    "x_scale = np.linspace(0,10,11)\n",
    "\n",
    "for i in cols:\n",
    "    fig = plt.figure()\n",
    "    index = data_dtm[i][ data_dtm[i]> 0].index\n",
    "    plt.hist(data_dtm[i][index] * df.vote_average[index], \n",
    "             density=True,\n",
    "             histtype=\"step\",\n",
    "             label=i, bins=x_scale)\n",
    "    plt.legend(loc=0)"
   ]
  },
  {
   "cell_type": "code",
   "execution_count": null,
   "metadata": {},
   "outputs": [],
   "source": []
  },
  {
   "cell_type": "code",
   "execution_count": 25,
   "metadata": {},
   "outputs": [],
   "source": [
    "genres_vote_weighted = pd.DataFrame()\n",
    "\n",
    "for i in cols:\n",
    "    genres_vote_weighted[i] = data_dtm[i] * df.vote_average\n",
    "\n",
    "genres_vote_weighted = genres_vote_weighted.replace(0, np.NaN)"
   ]
  },
  {
   "cell_type": "code",
   "execution_count": 26,
   "metadata": {},
   "outputs": [],
   "source": [
    "meds = genres_vote_weighted.median()"
   ]
  },
  {
   "cell_type": "code",
   "execution_count": 27,
   "metadata": {},
   "outputs": [
    {
     "data": {
      "text/plain": [
       "tv_movie           5.10\n",
       "horror             5.80\n",
       "comedy             6.00\n",
       "action             6.10\n",
       "family             6.10\n",
       "fantasy            6.10\n",
       "thriller           6.10\n",
       "science_fiction    6.10\n",
       "adventure          6.20\n",
       "crime              6.30\n",
       "mystery            6.30\n",
       "romance            6.30\n",
       "animation          6.50\n",
       "drama              6.50\n",
       "music              6.55\n",
       "foreign            6.60\n",
       "western            6.60\n",
       "history            6.70\n",
       "war                6.75\n",
       "documentary        6.90\n",
       "dtype: float64"
      ]
     },
     "execution_count": 27,
     "metadata": {},
     "output_type": "execute_result"
    }
   ],
   "source": [
    "meds.sort_values()"
   ]
  },
  {
   "cell_type": "code",
   "execution_count": 28,
   "metadata": {},
   "outputs": [],
   "source": [
    "genres_vote_weighted = genres_vote_weighted[meds.sort_values().index] "
   ]
  },
  {
   "cell_type": "code",
   "execution_count": 29,
   "metadata": {},
   "outputs": [
    {
     "data": {
      "image/png": "[encoded data removed]",
      "text/plain": [
       "<Figure size 720x720 with 1 Axes>"
      ]
     },
     "metadata": {
      "needs_background": "light"
     },
     "output_type": "display_data"
    }
   ],
   "source": [
    "fig = plt.figure(figsize=(10,10,))\n",
    "genres_vote_weighted.boxplot(vert=False)\n",
    "plt.savefig(\"genres_whole_set.png\")"
   ]
  },
  {
   "cell_type": "code",
   "execution_count": 30,
   "metadata": {},
   "outputs": [
    {
     "data": {
      "text/plain": [
       "6.2"
      ]
     },
     "execution_count": 30,
     "metadata": {},
     "output_type": "execute_result"
    }
   ],
   "source": [
    "df.vote_average.quantile(0.5)"
   ]
  },
  {
   "cell_type": "code",
   "execution_count": 31,
   "metadata": {},
   "outputs": [
    {
     "data": {
      "text/plain": [
       "6.8"
      ]
     },
     "execution_count": 31,
     "metadata": {},
     "output_type": "execute_result"
    }
   ],
   "source": [
    "df.vote_average.quantile(0.75)"
   ]
  },
  {
   "cell_type": "code",
   "execution_count": 32,
   "metadata": {},
   "outputs": [],
   "source": [
    "index = df.vote_average > 6.8"
   ]
  },
  {
   "cell_type": "code",
   "execution_count": 33,
   "metadata": {},
   "outputs": [
    {
     "data": {
      "text/plain": [
       "0        True\n",
       "1        True\n",
       "2       False\n",
       "3        True\n",
       "4       False\n",
       "        ...  \n",
       "4695     True\n",
       "4696     True\n",
       "4697    False\n",
       "4698    False\n",
       "4699    False\n",
       "Name: vote_average, Length: 4700, dtype: bool"
      ]
     },
     "execution_count": 33,
     "metadata": {},
     "output_type": "execute_result"
    }
   ],
   "source": [
    "index"
   ]
  },
  {
   "cell_type": "code",
   "execution_count": 34,
   "metadata": {},
   "outputs": [],
   "source": [
    "genres_vote_weighted = pd.DataFrame()\n",
    "\n",
    "for i in cols:\n",
    "    genres_vote_weighted[i] = data_dtm[i] * df.vote_average"
   ]
  },
  {
   "cell_type": "code",
   "execution_count": 35,
   "metadata": {},
   "outputs": [],
   "source": [
    "best_genres = genres_vote_weighted[index]\n",
    "best_genres = best_genres.replace(0, np.NaN)"
   ]
  },
  {
   "cell_type": "code",
   "execution_count": 36,
   "metadata": {},
   "outputs": [
    {
     "data": {
      "image/png": "[encoded data removed]",
      "text/plain": [
       "<Figure size 720x720 with 1 Axes>"
      ]
     },
     "metadata": {
      "needs_background": "light"
     },
     "output_type": "display_data"
    }
   ],
   "source": [
    "fig = plt.figure(figsize=(10,10))\n",
    "meds = best_genres.median()\n",
    "best_genres = best_genres[meds.sort_values().index]\n",
    "\n",
    "best_genres.boxplot(vert=False)\n",
    "\n",
    "plt.savefig(\"genres_3rd_quartile.png\")"
   ]
  },
  {
   "cell_type": "code",
   "execution_count": 37,
   "metadata": {},
   "outputs": [],
   "source": [
    "best_genres_vote_counting = data_dtm[index].sum()"
   ]
  },
  {
   "cell_type": "code",
   "execution_count": 38,
   "metadata": {},
   "outputs": [
    {
     "data": {
      "text/plain": [
       "pandas.core.series.Series"
      ]
     },
     "execution_count": 38,
     "metadata": {},
     "output_type": "execute_result"
    }
   ],
   "source": [
    "type(best_genres_vote_counting)"
   ]
  },
  {
   "cell_type": "code",
   "execution_count": 39,
   "metadata": {},
   "outputs": [
    {
     "data": {
      "text/plain": [
       "action             193\n",
       "adventure          175\n",
       "animation           63\n",
       "comedy             266\n",
       "crime              175\n",
       "documentary         49\n",
       "drama              752\n",
       "family             105\n",
       "fantasy             83\n",
       "foreign              9\n",
       "history             83\n",
       "horror              47\n",
       "music               57\n",
       "mystery             78\n",
       "romance            214\n",
       "science_fiction    101\n",
       "thriller           223\n",
       "tv_movie             0\n",
       "war                 65\n",
       "western             33\n",
       "dtype: int64"
      ]
     },
     "execution_count": 39,
     "metadata": {},
     "output_type": "execute_result"
    }
   ],
   "source": [
    "best_genres_vote_counting"
   ]
  },
  {
   "cell_type": "code",
   "execution_count": 40,
   "metadata": {},
   "outputs": [
    {
     "data": {
      "text/plain": [
       "Index(['action', 'adventure', 'animation', 'comedy', 'crime', 'documentary',\n",
       "       'drama', 'family', 'fantasy', 'foreign', 'history', 'horror', 'music',\n",
       "       'mystery', 'romance', 'science_fiction', 'thriller', 'tv_movie', 'war',\n",
       "       'western'],\n",
       "      dtype='object')"
      ]
     },
     "execution_count": 40,
     "metadata": {},
     "output_type": "execute_result"
    }
   ],
   "source": [
    "best_genres_vote_counting.index"
   ]
  },
  {
   "cell_type": "code",
   "execution_count": 41,
   "metadata": {},
   "outputs": [
    {
     "data": {
      "image/png": "[encoded data removed]",
      "text/plain": [
       "<Figure size 576x576 with 1 Axes>"
      ]
     },
     "metadata": {
      "needs_background": "light"
     },
     "output_type": "display_data"
    }
   ],
   "source": [
    "fig = plt.figure(figsize=(8,8))\n",
    "plt.plot(best_genres_vote_counting, best_genres_vote_counting.index)\n",
    "plt.tick_params(axis='both', which='both', labelsize=15)\n",
    "plt.savefig(\"genres_3rd_quartile_vote_counting.png\")"
   ]
  },
  {
   "cell_type": "code",
   "execution_count": 42,
   "metadata": {},
   "outputs": [
    {
     "data": {
      "text/html": [
       "<div>\n",
       "<style scoped>\n",
       "    .dataframe tbody tr th:only-of-type {\n",
       "        vertical-align: middle;\n",
       "    }\n",
       "\n",
       "    .dataframe tbody tr th {\n",
       "        vertical-align: top;\n",
       "    }\n",
       "\n",
       "    .dataframe thead th {\n",
       "        text-align: right;\n",
       "    }\n",
       "</style>\n",
       "<table border=\"1\" class=\"dataframe\">\n",
       "  <thead>\n",
       "    <tr style=\"text-align: right;\">\n",
       "      <th></th>\n",
       "      <th>id</th>\n",
       "      <th>title</th>\n",
       "      <th>popularity</th>\n",
       "      <th>vote_average</th>\n",
       "      <th>vote_count</th>\n",
       "      <th>runtime</th>\n",
       "      <th>release_date</th>\n",
       "      <th>genres</th>\n",
       "      <th>keywords</th>\n",
       "      <th>director</th>\n",
       "      <th>producer</th>\n",
       "      <th>screenplay</th>\n",
       "      <th>writer</th>\n",
       "      <th>budget</th>\n",
       "      <th>profit_ratio</th>\n",
       "      <th>genres_str</th>\n",
       "    </tr>\n",
       "  </thead>\n",
       "  <tbody>\n",
       "    <tr>\n",
       "      <td>0</td>\n",
       "      <td>19995</td>\n",
       "      <td>Avatar</td>\n",
       "      <td>150.437577</td>\n",
       "      <td>7.2</td>\n",
       "      <td>11800</td>\n",
       "      <td>162.0</td>\n",
       "      <td>2009-12-10</td>\n",
       "      <td>[Action, Adventure, Fantasy, Science Fiction]</td>\n",
       "      <td>[culture clash, future, space war, space colon...</td>\n",
       "      <td>[James Cameron]</td>\n",
       "      <td>[James Cameron, Jon Landau]</td>\n",
       "      <td>[James Cameron]</td>\n",
       "      <td>[James Cameron]</td>\n",
       "      <td>237000000</td>\n",
       "      <td>10.763566</td>\n",
       "      <td>Action Adventure Fantasy Science_Fiction</td>\n",
       "    </tr>\n",
       "    <tr>\n",
       "      <td>1</td>\n",
       "      <td>285</td>\n",
       "      <td>Pirates of the Caribbean: At World's End</td>\n",
       "      <td>139.082615</td>\n",
       "      <td>6.9</td>\n",
       "      <td>4500</td>\n",
       "      <td>169.0</td>\n",
       "      <td>2007-05-19</td>\n",
       "      <td>[Adventure, Fantasy, Action]</td>\n",
       "      <td>[ocean, drug abuse, exotic island, east india ...</td>\n",
       "      <td>[Gore Verbinski]</td>\n",
       "      <td>[Jerry Bruckheimer, Eric McLeod, Chad Oman, Pe...</td>\n",
       "      <td>[Ted Elliott, Terry Rossio]</td>\n",
       "      <td>[]</td>\n",
       "      <td>300000000</td>\n",
       "      <td>2.203333</td>\n",
       "      <td>Adventure Fantasy Action</td>\n",
       "    </tr>\n",
       "    <tr>\n",
       "      <td>3</td>\n",
       "      <td>49026</td>\n",
       "      <td>The Dark Knight Rises</td>\n",
       "      <td>112.312950</td>\n",
       "      <td>7.6</td>\n",
       "      <td>9106</td>\n",
       "      <td>165.0</td>\n",
       "      <td>2012-07-16</td>\n",
       "      <td>[Action, Crime, Drama, Thriller]</td>\n",
       "      <td>[dc comics, crime fighter, terrorist, secret i...</td>\n",
       "      <td>[Christopher Nolan]</td>\n",
       "      <td>[Charles Roven, Christopher Nolan, Emma Thomas]</td>\n",
       "      <td>[Christopher Nolan, Jonathan Nolan]</td>\n",
       "      <td>[]</td>\n",
       "      <td>250000000</td>\n",
       "      <td>3.339756</td>\n",
       "      <td>Action Crime Drama Thriller</td>\n",
       "    </tr>\n",
       "    <tr>\n",
       "      <td>6</td>\n",
       "      <td>38757</td>\n",
       "      <td>Tangled</td>\n",
       "      <td>48.681969</td>\n",
       "      <td>7.4</td>\n",
       "      <td>3330</td>\n",
       "      <td>100.0</td>\n",
       "      <td>2010-11-24</td>\n",
       "      <td>[Animation, Family]</td>\n",
       "      <td>[hostage, magic, horse, fairy tale, musical, p...</td>\n",
       "      <td>[Byron Howard, Nathan Greno]</td>\n",
       "      <td>[Roy Conli]</td>\n",
       "      <td>[Dan Fogelman]</td>\n",
       "      <td>[]</td>\n",
       "      <td>260000000</td>\n",
       "      <td>1.276134</td>\n",
       "      <td>Animation Family</td>\n",
       "    </tr>\n",
       "    <tr>\n",
       "      <td>7</td>\n",
       "      <td>99861</td>\n",
       "      <td>Avengers: Age of Ultron</td>\n",
       "      <td>134.279229</td>\n",
       "      <td>7.3</td>\n",
       "      <td>6767</td>\n",
       "      <td>141.0</td>\n",
       "      <td>2015-04-22</td>\n",
       "      <td>[Action, Adventure, Science Fiction]</td>\n",
       "      <td>[marvel comic, sequel, superhero, based on com...</td>\n",
       "      <td>[Joss Whedon]</td>\n",
       "      <td>[Kevin Feige]</td>\n",
       "      <td>[]</td>\n",
       "      <td>[Joss Whedon]</td>\n",
       "      <td>280000000</td>\n",
       "      <td>4.019299</td>\n",
       "      <td>Action Adventure Science_Fiction</td>\n",
       "    </tr>\n",
       "    <tr>\n",
       "      <td>...</td>\n",
       "      <td>...</td>\n",
       "      <td>...</td>\n",
       "      <td>...</td>\n",
       "      <td>...</td>\n",
       "      <td>...</td>\n",
       "      <td>...</td>\n",
       "      <td>...</td>\n",
       "      <td>...</td>\n",
       "      <td>...</td>\n",
       "      <td>...</td>\n",
       "      <td>...</td>\n",
       "      <td>...</td>\n",
       "      <td>...</td>\n",
       "      <td>...</td>\n",
       "      <td>...</td>\n",
       "      <td>...</td>\n",
       "    </tr>\n",
       "    <tr>\n",
       "      <td>4685</td>\n",
       "      <td>126141</td>\n",
       "      <td>The Case of the Grinning Cat</td>\n",
       "      <td>0.092562</td>\n",
       "      <td>7.7</td>\n",
       "      <td>3</td>\n",
       "      <td>59.0</td>\n",
       "      <td>2004-12-05</td>\n",
       "      <td>[Documentary]</td>\n",
       "      <td>[]</td>\n",
       "      <td>[Chris Marker]</td>\n",
       "      <td>[]</td>\n",
       "      <td>[]</td>\n",
       "      <td>[]</td>\n",
       "      <td>0</td>\n",
       "      <td>NaN</td>\n",
       "      <td>Documentary</td>\n",
       "    </tr>\n",
       "    <tr>\n",
       "      <td>4686</td>\n",
       "      <td>48035</td>\n",
       "      <td>Ordet</td>\n",
       "      <td>3.225189</td>\n",
       "      <td>7.8</td>\n",
       "      <td>65</td>\n",
       "      <td>126.0</td>\n",
       "      <td>1955-01-09</td>\n",
       "      <td>[Drama]</td>\n",
       "      <td>[faith, independent film, religion, religious ...</td>\n",
       "      <td>[Carl Theodor Dreyer]</td>\n",
       "      <td>[Carl Theodor Dreyer, Tage Nielsen, Erik Nielsen]</td>\n",
       "      <td>[Carl Theodor Dreyer]</td>\n",
       "      <td>[]</td>\n",
       "      <td>0</td>\n",
       "      <td>NaN</td>\n",
       "      <td>Drama</td>\n",
       "    </tr>\n",
       "    <tr>\n",
       "      <td>4688</td>\n",
       "      <td>13363</td>\n",
       "      <td>The Man from Earth</td>\n",
       "      <td>31.339015</td>\n",
       "      <td>7.7</td>\n",
       "      <td>687</td>\n",
       "      <td>87.0</td>\n",
       "      <td>2007-06-10</td>\n",
       "      <td>[Science Fiction, Drama]</td>\n",
       "      <td>[philosophy, secret, birthday, professor, psyc...</td>\n",
       "      <td>[Richard Schenkman]</td>\n",
       "      <td>[Richard Schenkman, Eric D. Wilkinson]</td>\n",
       "      <td>[]</td>\n",
       "      <td>[Jerome Bixby]</td>\n",
       "      <td>0</td>\n",
       "      <td>NaN</td>\n",
       "      <td>Science_Fiction Drama</td>\n",
       "    </tr>\n",
       "    <tr>\n",
       "      <td>4695</td>\n",
       "      <td>21334</td>\n",
       "      <td>Children of Heaven</td>\n",
       "      <td>7.072118</td>\n",
       "      <td>7.8</td>\n",
       "      <td>112</td>\n",
       "      <td>89.0</td>\n",
       "      <td>1997-08-01</td>\n",
       "      <td>[Drama, Comedy, Family]</td>\n",
       "      <td>[brother sister relationship, class, foot race]</td>\n",
       "      <td>[Majid Majidi]</td>\n",
       "      <td>[]</td>\n",
       "      <td>[]</td>\n",
       "      <td>[Majid Majidi]</td>\n",
       "      <td>180000</td>\n",
       "      <td>4.000000</td>\n",
       "      <td>Drama Comedy Family</td>\n",
       "    </tr>\n",
       "    <tr>\n",
       "      <td>4696</td>\n",
       "      <td>79120</td>\n",
       "      <td>Weekend</td>\n",
       "      <td>1.041254</td>\n",
       "      <td>7.4</td>\n",
       "      <td>163</td>\n",
       "      <td>96.0</td>\n",
       "      <td>2011-09-22</td>\n",
       "      <td>[Drama, Romance]</td>\n",
       "      <td>[gay, great britain, one-night stand, independ...</td>\n",
       "      <td>[Andrew Haigh]</td>\n",
       "      <td>[]</td>\n",
       "      <td>[]</td>\n",
       "      <td>[Andrew Haigh]</td>\n",
       "      <td>8000</td>\n",
       "      <td>57.743375</td>\n",
       "      <td>Drama Romance</td>\n",
       "    </tr>\n",
       "  </tbody>\n",
       "</table>\n",
       "<p>1128 rows × 16 columns</p>\n",
       "</div>"
      ],
      "text/plain": [
       "          id                                     title  popularity  \\\n",
       "0      19995                                    Avatar  150.437577   \n",
       "1        285  Pirates of the Caribbean: At World's End  139.082615   \n",
       "3      49026                     The Dark Knight Rises  112.312950   \n",
       "6      38757                                   Tangled   48.681969   \n",
       "7      99861                   Avengers: Age of Ultron  134.279229   \n",
       "...      ...                                       ...         ...   \n",
       "4685  126141              The Case of the Grinning Cat    0.092562   \n",
       "4686   48035                                     Ordet    3.225189   \n",
       "4688   13363                        The Man from Earth   31.339015   \n",
       "4695   21334                        Children of Heaven    7.072118   \n",
       "4696   79120                                   Weekend    1.041254   \n",
       "\n",
       "      vote_average  vote_count  runtime release_date  \\\n",
       "0              7.2       11800    162.0   2009-12-10   \n",
       "1              6.9        4500    169.0   2007-05-19   \n",
       "3              7.6        9106    165.0   2012-07-16   \n",
       "6              7.4        3330    100.0   2010-11-24   \n",
       "7              7.3        6767    141.0   2015-04-22   \n",
       "...            ...         ...      ...          ...   \n",
       "4685           7.7           3     59.0   2004-12-05   \n",
       "4686           7.8          65    126.0   1955-01-09   \n",
       "4688           7.7         687     87.0   2007-06-10   \n",
       "4695           7.8         112     89.0   1997-08-01   \n",
       "4696           7.4         163     96.0   2011-09-22   \n",
       "\n",
       "                                             genres  \\\n",
       "0     [Action, Adventure, Fantasy, Science Fiction]   \n",
       "1                      [Adventure, Fantasy, Action]   \n",
       "3                  [Action, Crime, Drama, Thriller]   \n",
       "6                               [Animation, Family]   \n",
       "7              [Action, Adventure, Science Fiction]   \n",
       "...                                             ...   \n",
       "4685                                  [Documentary]   \n",
       "4686                                        [Drama]   \n",
       "4688                       [Science Fiction, Drama]   \n",
       "4695                        [Drama, Comedy, Family]   \n",
       "4696                               [Drama, Romance]   \n",
       "\n",
       "                                               keywords  \\\n",
       "0     [culture clash, future, space war, space colon...   \n",
       "1     [ocean, drug abuse, exotic island, east india ...   \n",
       "3     [dc comics, crime fighter, terrorist, secret i...   \n",
       "6     [hostage, magic, horse, fairy tale, musical, p...   \n",
       "7     [marvel comic, sequel, superhero, based on com...   \n",
       "...                                                 ...   \n",
       "4685                                                 []   \n",
       "4686  [faith, independent film, religion, religious ...   \n",
       "4688  [philosophy, secret, birthday, professor, psyc...   \n",
       "4695    [brother sister relationship, class, foot race]   \n",
       "4696  [gay, great britain, one-night stand, independ...   \n",
       "\n",
       "                          director  \\\n",
       "0                  [James Cameron]   \n",
       "1                 [Gore Verbinski]   \n",
       "3              [Christopher Nolan]   \n",
       "6     [Byron Howard, Nathan Greno]   \n",
       "7                    [Joss Whedon]   \n",
       "...                            ...   \n",
       "4685                [Chris Marker]   \n",
       "4686         [Carl Theodor Dreyer]   \n",
       "4688           [Richard Schenkman]   \n",
       "4695                [Majid Majidi]   \n",
       "4696                [Andrew Haigh]   \n",
       "\n",
       "                                               producer  \\\n",
       "0                           [James Cameron, Jon Landau]   \n",
       "1     [Jerry Bruckheimer, Eric McLeod, Chad Oman, Pe...   \n",
       "3       [Charles Roven, Christopher Nolan, Emma Thomas]   \n",
       "6                                           [Roy Conli]   \n",
       "7                                         [Kevin Feige]   \n",
       "...                                                 ...   \n",
       "4685                                                 []   \n",
       "4686  [Carl Theodor Dreyer, Tage Nielsen, Erik Nielsen]   \n",
       "4688             [Richard Schenkman, Eric D. Wilkinson]   \n",
       "4695                                                 []   \n",
       "4696                                                 []   \n",
       "\n",
       "                               screenplay           writer     budget  \\\n",
       "0                         [James Cameron]  [James Cameron]  237000000   \n",
       "1             [Ted Elliott, Terry Rossio]               []  300000000   \n",
       "3     [Christopher Nolan, Jonathan Nolan]               []  250000000   \n",
       "6                          [Dan Fogelman]               []  260000000   \n",
       "7                                      []    [Joss Whedon]  280000000   \n",
       "...                                   ...              ...        ...   \n",
       "4685                                   []               []          0   \n",
       "4686                [Carl Theodor Dreyer]               []          0   \n",
       "4688                                   []   [Jerome Bixby]          0   \n",
       "4695                                   []   [Majid Majidi]     180000   \n",
       "4696                                   []   [Andrew Haigh]       8000   \n",
       "\n",
       "      profit_ratio                                genres_str  \n",
       "0        10.763566  Action Adventure Fantasy Science_Fiction  \n",
       "1         2.203333                  Adventure Fantasy Action  \n",
       "3         3.339756               Action Crime Drama Thriller  \n",
       "6         1.276134                          Animation Family  \n",
       "7         4.019299          Action Adventure Science_Fiction  \n",
       "...            ...                                       ...  \n",
       "4685           NaN                               Documentary  \n",
       "4686           NaN                                     Drama  \n",
       "4688           NaN                     Science_Fiction Drama  \n",
       "4695      4.000000                       Drama Comedy Family  \n",
       "4696     57.743375                             Drama Romance  \n",
       "\n",
       "[1128 rows x 16 columns]"
      ]
     },
     "execution_count": 42,
     "metadata": {},
     "output_type": "execute_result"
    }
   ],
   "source": [
    "df[index]"
   ]
  },
  {
   "cell_type": "code",
   "execution_count": 43,
   "metadata": {},
   "outputs": [
    {
     "data": {
      "text/plain": [
       "datetime.date(2009, 12, 10)"
      ]
     },
     "execution_count": 43,
     "metadata": {},
     "output_type": "execute_result"
    }
   ],
   "source": [
    "df.release_date[0]"
   ]
  },
  {
   "cell_type": "code",
   "execution_count": 44,
   "metadata": {},
   "outputs": [],
   "source": [
    "df.release_date = pd.to_datetime(df.release_date)"
   ]
  },
  {
   "cell_type": "code",
   "execution_count": 45,
   "metadata": {},
   "outputs": [],
   "source": [
    "release_date = pd.to_datetime(df[\"release_date\"])"
   ]
  },
  {
   "cell_type": "code",
   "execution_count": 46,
   "metadata": {},
   "outputs": [
    {
     "data": {
      "image/png": "[encoded data removed]",
      "text/plain": [
       "<Figure size 576x576 with 1 Axes>"
      ]
     },
     "metadata": {
      "needs_background": "light"
     },
     "output_type": "display_data"
    }
   ],
   "source": [
    "fig = plt.figure(figsize=(8,8))\n",
    "\n",
    "plt.scatter(df.release_date.dt.month[index]\n",
    "            + df.release_date.dt.day[index] / 30, \n",
    "            df.vote_average[index], alpha=0.2)\n",
    "plt.xlabel(\"Month\")\n",
    "plt.ylabel(\"Vote Average\")\n",
    "plt.savefig(\"release_date_vs_vote_average.png\")"
   ]
  },
  {
   "cell_type": "code",
   "execution_count": null,
   "metadata": {},
   "outputs": [],
   "source": []
  },
  {
   "cell_type": "code",
   "execution_count": null,
   "metadata": {},
   "outputs": [],
   "source": []
  }
 ],
 "metadata": {
  "kernelspec": {
   "display_name": "Python 3",
   "language": "python",
   "name": "python3"
  },
  "language_info": {
   "codemirror_mode": {
    "name": "ipython",
    "version": 3
   },
   "file_extension": ".py",
   "mimetype": "text/x-python",
   "name": "python",
   "nbconvert_exporter": "python",
   "pygments_lexer": "ipython3",
   "version": "3.7.4"
  }
 },
 "nbformat": 4,
 "nbformat_minor": 2
}
